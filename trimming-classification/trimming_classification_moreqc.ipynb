{
 "cells": [
  {
   "cell_type": "markdown",
   "id": "66508866-7cf6-4585-bc75-822ea4bf6918",
   "metadata": {},
   "source": [
    "This code will show how to generate basic reports and then carry out clean up and taxonomic classification of paired-end metagenome .fastq.gz files in BASH. \n",
    "\n",
    "Sample data from ENA:\n",
    "\n",
    "Metagenomes from the Tara Oceans Project\n",
    "\n",
    "Can be found at https://www.ebi.ac.uk/ena/browser/view/PRJEB1787?show=reads\n",
    "\n",
    "In example code, I have used the 4th-7th listed pairs of Generated FASTQ files\n",
    "\n",
    "move into content folder:"
   ]
  },
  {
   "cell_type": "code",
   "execution_count": 31,
   "id": "65473f9d-5e68-47e3-a387-3f98fbdddc78",
   "metadata": {},
   "outputs": [],
   "source": [
    "cd example_content_2"
   ]
  },
  {
   "cell_type": "markdown",
   "id": "ef13b769-d3c5-434b-b995-9e9555930f74",
   "metadata": {},
   "source": [
    "examine content...notice all of the .fastq.gz files are in separate subfolders"
   ]
  },
  {
   "cell_type": "code",
   "execution_count": 32,
   "id": "79cee440-3678-4f64-8197-5e23f6d8b926",
   "metadata": {},
   "outputs": [
    {
     "name": "stdout",
     "output_type": "stream",
     "text": [
      "ERR1701760\tERR315858\tERR315859\n"
     ]
    }
   ],
   "source": [
    "ls"
   ]
  },
  {
   "cell_type": "markdown",
   "id": "29d3dae0-c083-4831-9b5f-89706321aeaa",
   "metadata": {},
   "source": [
    "move up one directory and create a new subdirectory to move all of the .fastq.gz files into one place. Then check that the directory was made with ls."
   ]
  },
  {
   "cell_type": "code",
   "execution_count": 33,
   "id": "60d7bdc9-c043-4449-9cc3-b60923647d01",
   "metadata": {},
   "outputs": [],
   "source": [
    "cd .."
   ]
  },
  {
   "cell_type": "markdown",
   "id": "079716af-b91d-49fc-b202-fdff2aad0184",
   "metadata": {},
   "source": [
    "First, we need to make a copy of the original data before moving it"
   ]
  },
  {
   "cell_type": "code",
   "execution_count": null,
   "id": "f82cf2f9-2ae9-433f-98a2-089175d3e536",
   "metadata": {},
   "outputs": [],
   "source": [
    "cp -R example_content_2 example_content_2_copy"
   ]
  },
  {
   "cell_type": "code",
   "execution_count": null,
   "id": "f9f850c8-1fbd-46c5-a3d9-f315c9bab995",
   "metadata": {},
   "outputs": [],
   "source": [
    "mkdir all_data"
   ]
  },
  {
   "cell_type": "code",
   "execution_count": null,
   "id": "059064cb-e345-4278-b84c-decfa285bc9a",
   "metadata": {},
   "outputs": [],
   "source": [
    "ls"
   ]
  },
  {
   "cell_type": "markdown",
   "id": "b69d3cf6-70c8-4572-be53-c8c44786502c",
   "metadata": {},
   "source": [
    "move back to example_content_2 directory"
   ]
  },
  {
   "cell_type": "code",
   "execution_count": null,
   "id": "e5688879-da10-4416-9ba1-defa60088352",
   "metadata": {},
   "outputs": [],
   "source": [
    "cd example_content_2"
   ]
  },
  {
   "cell_type": "markdown",
   "id": "8cdf7a90-c8a0-4e1f-9d23-a9ab42c74a1a",
   "metadata": {},
   "source": [
    "locate all files ending with .gz in all subfolders within the directory. The `*` character means that any other characters can preceed .gz. The `mindepth` command specifies to perform commands that follow at the subdirectory level (1=root). The empty `{}` allows all files meeting the criteria to be moved.  The `print` command allows user to monitor files"
   ]
  },
  {
   "cell_type": "code",
   "execution_count": null,
   "id": "478fff23-b49b-42f5-863e-c81ffb56ca56",
   "metadata": {},
   "outputs": [],
   "source": [
    "find . -mindepth 2 -type f -name '*.gz' -print -exec mv {} ../all_data \\;"
   ]
  },
  {
   "cell_type": "markdown",
   "id": "620ad13a-e8ef-4e74-8e47-0bd2e6f0b2df",
   "metadata": {},
   "source": [
    "move into the `all_data` subdirectory to check that all the `.fastq.gz` files have moved."
   ]
  },
  {
   "cell_type": "code",
   "execution_count": null,
   "id": "05d5f66c-bf0a-4436-a130-17b0ff3cf73c",
   "metadata": {},
   "outputs": [],
   "source": [
    "cd ../all_data"
   ]
  },
  {
   "cell_type": "code",
   "execution_count": null,
   "id": "79a776ec-6c92-4985-a6d3-fc93a2155845",
   "metadata": {},
   "outputs": [],
   "source": [
    "ls"
   ]
  },
  {
   "cell_type": "markdown",
   "id": "ef3face1-a23c-427c-b437-e43471cd1537",
   "metadata": {},
   "source": [
    "Now, we delete the original example_content_2 directory, which is empty."
   ]
  },
  {
   "cell_type": "code",
   "execution_count": null,
   "id": "5c6b91ac-6781-45b9-9e6d-268fcb297d45",
   "metadata": {},
   "outputs": [],
   "source": [
    "rm -r ../example_content_2"
   ]
  },
  {
   "cell_type": "markdown",
   "id": "6cf126ba-f24c-4975-9330-994c99f8f241",
   "metadata": {},
   "source": [
    "I am going to perform various quality control read removal and read trimning steps using the tools in bbtools. I will start with one pair of read files to demonstrate syntax.\n",
    "\n",
    "First, I am going to call the tool clumpify by `clumpify.sh` to remove optical duplicates. These are detected within a particular distance on a sequencing flowcell. Optical duplicates are one read detected as multiple reads by the sequencing platform optical sensor. This is a non-issue for patterned flow cells. Note that for paired-end reads, the output file is one with merged reads. The argument `groups` is used to decrease memory usage. The use can specify a number of groups to make the temporary data files used during processing as arbitrarily small as they want. To learn about decreasing `clumpify` memory usage, check out the [offical documentation](https://jgi.doe.gov/data-and-tools/bbtools/bb-tools-user-guide/clumpify-guide/)"
   ]
  },
  {
   "cell_type": "code",
   "execution_count": null,
   "id": "48962d23-d5d3-4c0a-b9b1-84af52e66a3f",
   "metadata": {},
   "outputs": [],
   "source": [
    "mkdir ../optical_deduped_reads"
   ]
  },
  {
   "cell_type": "code",
   "execution_count": null,
   "id": "5ed355bb-d742-47bc-84ae-9af884569508",
   "metadata": {},
   "outputs": [],
   "source": [
    "clumpify.sh in1=ERR315859_1.fastq.gz in2=ERR315859_2.fastq.gz out=../optical_deduped_reads/optdedup_ERR315859.fastq.gz -Xmx2000m groups=20 dedupe optical ow=t"
   ]
  },
  {
   "cell_type": "markdown",
   "id": "5d8a775a-9d07-43f2-a852-fef04743b98e",
   "metadata": {},
   "source": [
    "Second, I am going to call the tool `filterbytile.sh` to remove low-quality reads from the optical-deduped files by flowcell tile. The tool does this by averaging all of the reads with a micro-tile area and then keeping or discarding the entire micro-tile."
   ]
  },
  {
   "cell_type": "code",
   "execution_count": null,
   "id": "311dbada-a91e-465f-9620-9593b375e2c0",
   "metadata": {},
   "outputs": [],
   "source": [
    "mkdir ../tile_filtered_reads"
   ]
  },
  {
   "cell_type": "code",
   "execution_count": null,
   "id": "07c0aec3-5f99-4738-97d4-6f8ddba27126",
   "metadata": {},
   "outputs": [],
   "source": [
    "filterbytile.sh in=../optical_deduped_reads/optdedup_ERR315859.fastq.gz out=../tile_filtered_reads/tilefilt_ERR315859.fastq.gz ow=t"
   ]
  },
  {
   "cell_type": "markdown",
   "id": "7d93d703-9192-49f5-8321-7ed1f5fc6b15",
   "metadata": {},
   "source": [
    "Third, I will call the tool bbduk by `bbduk.sh` to trim adapters. The reference library used for trimming is adapters, which contains all illumina adapter sequences. `ktrim` directions determine whether the 3' (right) or 5' (left) adapters are trimmed. `k` specifies the kmer length in bp. `mink ` is the minimum allowable kmer length at the end of the sequence, `hdist` is allowable mismatch,and `ow=t` allows existing files to be overwritten. In this case, we are setting it to trim the 3' adapter. The argument `ordered` means the the tool will set the same input order set by `clumpify`"
   ]
  },
  {
   "cell_type": "code",
   "execution_count": null,
   "id": "ed63845e-33af-48ca-a191-11bc2053949a",
   "metadata": {},
   "outputs": [],
   "source": [
    "mkdir ../trimmed_reads"
   ]
  },
  {
   "cell_type": "code",
   "execution_count": null,
   "id": "422c1d6e-c8f5-46ed-ac06-90c514b825ac",
   "metadata": {},
   "outputs": [],
   "source": [
    "bbduk.sh in=../tile_filtered_reads/tilefilt_ERR315859.fastq.gz out=../trimmed_reads/trimmed_ERR315859.fastq.gz ktrim=r k=23 mink=11 hdist=1 tbo tpe minlen=90 ref=adapters ordered ow=t"
   ]
  },
  {
   "cell_type": "markdown",
   "id": "0c9144e0-97d3-4dd2-8172-dcf60c6ab7e1",
   "metadata": {},
   "source": [
    "Fourth, I will remove any synthetic DNA (spike-ins) and other such artifacts from the trimmed reads using `bbduk.sh` . The argument `cardinality` will approximate the unique number of k-mers. `phix` refers to a virus that is often spiked in during sequencing runs."
   ]
  },
  {
   "cell_type": "code",
   "execution_count": null,
   "id": "546a0845-4061-4171-ba2e-de9a51d2e753",
   "metadata": {},
   "outputs": [],
   "source": [
    "mkdir ../artfilt_reads"
   ]
  },
  {
   "cell_type": "code",
   "execution_count": null,
   "id": "c5bb8e26-ae4f-4a07-ad12-cf6370920d25",
   "metadata": {},
   "outputs": [],
   "source": [
    "bbduk.sh in=../trimmed_reads/trimmed_ERR315859.fastq.gz out=../artfilt_reads/artfilt_ERR315859.fastq.gz k=31 ref=artifacts,phix ordered cardinality ow=t"
   ]
  },
  {
   "cell_type": "markdown",
   "id": "523645e7-78a3-4d8b-a0eb-20a3aacbc15e",
   "metadata": {},
   "source": [
    "Fifth, I will trim low-quality regions from reads and discard reads with a lot of repeats (low-entropy reads) using `bbduk`. The minimum quality of read to retain is set by the argument `maq` "
   ]
  },
  {
   "cell_type": "code",
   "execution_count": null,
   "id": "cdd378aa-7188-43a6-95c0-f4abb2d5d983",
   "metadata": {},
   "outputs": [],
   "source": [
    "mkdir ../qtrimmedfilt_reads"
   ]
  },
  {
   "cell_type": "code",
   "execution_count": null,
   "id": "403b2e99-8ea0-47bc-b53d-8d96e890a43d",
   "metadata": {},
   "outputs": [],
   "source": [
    "bbduk.sh in=../artfilt_reads/artfilt_ERR315859.fastq.gz out=../qtrimmed_reads/qtrimmed_ERR315859.fastq.gz qtrim=r trimq=10 minlen=90 ordered maxns=0 maq=8 entropy=.95 ow=t"
   ]
  },
  {
   "cell_type": "markdown",
   "id": "42a77003-82d8-43e4-a563-16457792f3fc",
   "metadata": {},
   "source": [
    "Finally, I will use the package `sourmash` to compute the MinHash signature of the fully cleaned and QC'd read file. We won't be able to visualize sample similarity and dissimilarity through signatures until we have processed all samples, so we will get to this later."
   ]
  },
  {
   "cell_type": "code",
   "execution_count": null,
   "id": "04f72627-31aa-4587-a679-67178fa5893a",
   "metadata": {},
   "outputs": [],
   "source": [
    "mkdir ../MinHashSigs"
   ]
  },
  {
   "cell_type": "code",
   "execution_count": null,
   "id": "107b1059-235c-42a2-971f-f065e3d0c2ff",
   "metadata": {},
   "outputs": [],
   "source": [
    "sourmash compute -k 31 --scaled=1000 ../qtrimmed_reads/qtrimmed_ERR315859.fastq.gz --output ../MinHashSigs/qtrimmed_ERR315859.fastq.gz.sig"
   ]
  },
  {
   "cell_type": "markdown",
   "id": "ed1eeaa6-64a6-442f-8ff4-2def4be351d6",
   "metadata": {},
   "source": [
    "Now that the reads have been QC'd, cleaned and trimmed, let's try to do a simple classification of the 16S genes using the package Kraken2. This was Homebrew installed on my machine. We will redirect raw outputs to `null`"
   ]
  },
  {
   "cell_type": "code",
   "execution_count": null,
   "id": "a43d6d95-f8bf-47cd-bee7-dfd4daf5a853",
   "metadata": {},
   "outputs": [],
   "source": [
    "cd .."
   ]
  },
  {
   "cell_type": "code",
   "execution_count": null,
   "id": "5d7d3b6f-e558-47c0-877a-86d67621410a",
   "metadata": {},
   "outputs": [],
   "source": [
    "mkdir reports"
   ]
  },
  {
   "cell_type": "code",
   "execution_count": null,
   "id": "4e6b7173-3136-43e4-ba76-50ee77d685db",
   "metadata": {},
   "outputs": [],
   "source": [
    "mkdir text"
   ]
  },
  {
   "cell_type": "markdown",
   "id": "f821833b-f10d-4ed2-899a-537e987255aa",
   "metadata": {},
   "source": [
    "Before running Kraken2, we need to define the path of the taxonomy databases"
   ]
  },
  {
   "cell_type": "code",
   "execution_count": null,
   "id": "80758123-70d8-4d40-8d5d-d121bf7dfd78",
   "metadata": {},
   "outputs": [],
   "source": [
    "export KRAKEN2_DB_PATH='/Users/ashley/Applications/kraken2-2.0.9-beta/'"
   ]
  },
  {
   "cell_type": "markdown",
   "id": "d8012f09-6612-4474-8149-4fd005354302",
   "metadata": {},
   "source": [
    "We will run kraken2 taxonomy (using the SILVA 16S database) on the merged, qc'd and trimmed file, and produce a report. Confidence (0-1) will be set to 0.5. To skip producing default text output, follow input file name with `> /dev/null` . If skipping text output, do not enter `output` information"
   ]
  },
  {
   "cell_type": "code",
   "execution_count": null,
   "id": "44f21d9a-4838-49a6-8e1a-833876185462",
   "metadata": {},
   "outputs": [],
   "source": [
    "/Users/ashley/Applications/kraken2-2.0.9-beta/kraken2 --db silva --confidence 0.5 --output text/kraken2_text_qtrimmed_ERR315859.tsv --report reports/kraken2_report_qtrimmed_ERR315859.tsv qtrimmedfilt_reads/qtrimmed_ERR315859.fastq.gz"
   ]
  },
  {
   "cell_type": "markdown",
   "id": "76f6c656-27a1-49e0-85e6-e61854e047b2",
   "metadata": {},
   "source": [
    "The report has a particular format. Let's take a look at the first few lines.The first column is the percentage of sequence fragments covered by the clade root, the second column is the number of sequence fragments covered by the clade root, the 3rd column is number of sequence fragments assigned directly to the taxon, the 4th column is the taxonomic level, the 5th column is the NCBI taxonomic ID, and the final column is the taxonomy (scientific name). Because it is from paired reads, in column 4 the format is bp forward read|bp reverse read. the `|` character is used to indicate read types in column 5 also."
   ]
  },
  {
   "cell_type": "code",
   "execution_count": null,
   "id": "bc3bd03a-868c-4338-92d0-5a0d8a60957a",
   "metadata": {},
   "outputs": [],
   "source": [
    "head reports/kraken2_report_qtrimmed_ERR315859.tsv"
   ]
  },
  {
   "cell_type": "markdown",
   "id": "3e6c0f40-8327-43a4-ba5c-04c08f2cf462",
   "metadata": {},
   "source": [
    "next, let's take a look at the text output, which also has a particular format. The first column indicates whether the sequence was classified or not, the second column is the sequence ID within the fastq file, the 3rd column is the taxonomy ID assigned to the sequence by Kraken2 (0 if unclassified), the 4th column is the sequence length in bp, and the last column is the kmer map. For example- 0:66 means 66 kmers were mapped to unclassified. "
   ]
  },
  {
   "cell_type": "markdown",
   "id": "e2e46985-6f59-4eb0-b166-c04b1d32eecd",
   "metadata": {},
   "source": [
    "Now we will use Krona to visualize our results. Because this was conda installed, into my metagenome conda environment, I will need to activate the conda environment first. I have done this in my native terminal using `conda activate` because it is buggy in the Jupyter notebook bash environment"
   ]
  },
  {
   "cell_type": "markdown",
   "id": "edf34bb5-61ea-4b36-bf65-b525e4ff9c87",
   "metadata": {},
   "source": [
    "Because we are only interested in visualization the 16S composition of these read files, we will only updated Krona taxonomy to include the SILVA database."
   ]
  },
  {
   "cell_type": "code",
   "execution_count": null,
   "id": "7e94fef9-c859-4681-8b9a-3a7b3e251c37",
   "metadata": {},
   "outputs": [],
   "source": [
    "ktUpdateTaxonomy.sh --only-build /Users/ashley/Applications/kraken2-2.0.9-beta/silva/taxonomy/"
   ]
  },
  {
   "cell_type": "code",
   "execution_count": null,
   "id": "c3fb5171-e124-4406-a667-a3e1a9093a3e",
   "metadata": {},
   "outputs": [],
   "source": [
    "mkdir krona_outputs"
   ]
  },
  {
   "cell_type": "code",
   "execution_count": null,
   "id": "7d898117-5141-492a-b5a0-69ae547461a8",
   "metadata": {},
   "outputs": [],
   "source": [
    "cd qtrimmed_reads"
   ]
  },
  {
   "cell_type": "code",
   "execution_count": null,
   "id": "f8499a68-8530-48fc-a989-c2de7923541e",
   "metadata": {},
   "outputs": [],
   "source": [
    "ktImportTaxonomy -o ../krona_outputs/krona_qtrimmed_ERR315859.html -t 5 -m 3 -tax /Users/ashley/Applications/kraken2-2.0.9-beta/silva/taxonomy/ ../reports/kraken2_report_qtrimmed_ERR315859.tsv"
   ]
  },
  {
   "cell_type": "markdown",
   "id": "4697fee5-d234-4921-9d61-417891830166",
   "metadata": {},
   "source": [
    "The interactive Krona graph html files will now be available in the output folder, and will look like [this](https://github.com/ashleybc/metagenome-only/blob/main/trimming-classification/visuals/Kronagraph.png)"
   ]
  },
  {
   "cell_type": "markdown",
   "id": "64533100-3e65-4ee5-b9e0-5edadd479bb3",
   "metadata": {},
   "source": [
    "Now that we know what to do for one pair of reads, let's loop through all of the read pairs. This loop will set the variable `prefix` to each unique read set name"
   ]
  },
  {
   "cell_type": "code",
   "execution_count": null,
   "id": "68943c61-120f-470c-844a-179b5767d1ad",
   "metadata": {},
   "outputs": [],
   "source": [
    "cd all_data"
   ]
  },
  {
   "cell_type": "code",
   "execution_count": null,
   "id": "814f5a76-9714-4488-a574-7236acc76b5d",
   "metadata": {},
   "outputs": [],
   "source": [
    "for prefix in `ls *.gz | cut -f1 -d'_' | sort -u`; do\n",
    "echo $prefix\n",
    "read1=( ${prefix}*_1.fastq.gz ) \n",
    "read2=( ${prefix}*_2.fastq.gz )\n",
    "\n",
    "clumpify.sh in1=${read1} in2=${read2} out=../optical_deduped_reads/optdedup_${prefix}.fastq.gz groups=20 dedupe optical ow=t\n",
    "filterbytile.sh in=../optical_deduped_reads/optdedup_${prefix}.fastq.gz out=../tile_filtered_reads/tilefilt_${prefix}.fastq.gz ow=t\n",
    "bbduk.sh in=../tile_filtered_reads/tilefilt_${prefix}.fastq.gz out=../trimmed_reads/trimmed_${prefix}.fastq.gz ktrim=r k=23 mink=11 hdist=1 tbo tpe minlen=90 ref=adapters ordered ow=t\n",
    "bbduk.sh in=../trimmed_reads/trimmed_${prefix}.fastq.gz out=../artfilt_reads/artfilt_${prefix}.fastq.gz k=31 ref=artifacts,phix ordered cardinality ow=t\n",
    "bbduk.sh in=../artfilt_reads/artfilt_${prefix}.fastq.gz out=../qtrimmed_reads/qtrimmed_${prefix}.fastq.gz qtrim=r trimq=10 minlen=90 ordered maxns=0 maq=8 entropy=.95 ow=t\n",
    "sourmash compute -k 31 --scaled=1000 ../qtrimmed_reads/qtrimmed_${prefix}.fastq.gz --output ../MinHashSigs/qtrimmed_${prefix}.fastq.gz.sig\n",
    "/Users/ashley/Applications/kraken2-2.0.9-beta/kraken2 --db silva --confidence 0.5 --output ../text/kraken2_text_qtrimmed_${prefix}.tsv --report ../reports/kraken2_report_qtrimmed_${prefix}.tsv ../qtrimmed_reads/qtrimmed_${prefix}\n",
    "ktImportTaxonomy -o ../krona_outputs/krona_qtrimmed_${prefix}.html -t 5 -m 3 -tax /Users/ashley/Applications/kraken2-2.0.9-beta/silva/taxonomy/ ../reports/kraken2_report_qtrimmed_${prefix}.tsv\n",
    "\n",
    "done"
   ]
  },
  {
   "cell_type": "markdown",
   "id": "5a8a7e3c-ef55-493f-9f1a-9f0514dab2bc",
   "metadata": {},
   "source": [
    "Now that MinHash signatures have been computed for all reads, we can do an all vs. all signature comparison and visualize it."
   ]
  },
  {
   "cell_type": "code",
   "execution_count": null,
   "id": "2e4d247f-7f2c-4027-8198-68b3ab21e210",
   "metadata": {},
   "outputs": [],
   "source": [
    "mkdir ../MinHashPlots"
   ]
  },
  {
   "cell_type": "code",
   "execution_count": null,
   "id": "6ba7a185-0578-4b84-96c5-453381dd3b98",
   "metadata": {},
   "outputs": [],
   "source": [
    "sourmash compare --traverse-directory ./ ..MinHashSigs/*.sig -k 31 -o meta_comp"
   ]
  },
  {
   "cell_type": "code",
   "execution_count": null,
   "id": "d95e18ff-4bac-4d09-960c-79dc20a5baa4",
   "metadata": {},
   "outputs": [],
   "source": [
    "sourmash plot --pdf --labels meta_comp"
   ]
  }
 ],
 "metadata": {
  "kernelspec": {
   "display_name": "Bash",
   "language": "bash",
   "name": "bash"
  },
  "language_info": {
   "codemirror_mode": "shell",
   "file_extension": ".sh",
   "mimetype": "text/x-sh",
   "name": "bash"
  }
 },
 "nbformat": 4,
 "nbformat_minor": 5
}
