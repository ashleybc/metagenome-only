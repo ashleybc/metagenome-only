{
 "cells": [
  {
   "cell_type": "markdown",
   "id": "66508866-7cf6-4585-bc75-822ea4bf6918",
   "metadata": {},
   "source": [
    "This code will show how to generate basic reports and then carry out clean up and taxonomic classification of paired-end metagenome .fastq.gz files in BASH. \n",
    "\n",
    "Sample data from ENA:\n",
    "\n",
    "Arctic Ocean metagenomes sampled aboard CGC Healy during the 2015 GEOTRACES Arctic research cruise Secondary Study Accession:ERP015773 Study Title:Arctic Ocean metagenomes from HLY1502 Center Name:UNIVERSITY OF ALASKA FAIRBANKS Study Name:Arctic Ocean metagenomes ENA-FIRST-PUBLIC:2016-05-27 ENA-LAST-UPDATE:2016-05-25\n",
    "\n",
    "Can be found at: https://www.ebi.ac.uk/ena/browser/view/PRJEB14154?show=reads\n",
    "\n",
    "I have used the first 5 pairs of Generated FASTQ files\n",
    "\n",
    "move into content folder:"
   ]
  },
  {
   "cell_type": "code",
   "execution_count": 1,
   "id": "65473f9d-5e68-47e3-a387-3f98fbdddc78",
   "metadata": {},
   "outputs": [],
   "source": [
    "cd example_content"
   ]
  },
  {
   "cell_type": "markdown",
   "id": "ef13b769-d3c5-434b-b995-9e9555930f74",
   "metadata": {},
   "source": [
    "examine content...notice all of the .fastq.gz files are in separate subfolders"
   ]
  },
  {
   "cell_type": "code",
   "execution_count": 2,
   "id": "79cee440-3678-4f64-8197-5e23f6d8b926",
   "metadata": {},
   "outputs": [
    {
     "name": "stdout",
     "output_type": "stream",
     "text": [
      "ERR1424899\tERR1424900\tERR1424901\tERR1424902\tERR1424903\n"
     ]
    }
   ],
   "source": [
    "ls"
   ]
  },
  {
   "cell_type": "markdown",
   "id": "29d3dae0-c083-4831-9b5f-89706321aeaa",
   "metadata": {},
   "source": [
    "move up one directory and create a new subdirectory to move all of the .fastq.gz files into one place. Then check that the directory was made with ls."
   ]
  },
  {
   "cell_type": "code",
   "execution_count": 3,
   "id": "60d7bdc9-c043-4449-9cc3-b60923647d01",
   "metadata": {},
   "outputs": [],
   "source": [
    "cd .."
   ]
  },
  {
   "cell_type": "markdown",
   "id": "079716af-b91d-49fc-b202-fdff2aad0184",
   "metadata": {},
   "source": [
    "First, we need to make a copy of the original data before moving it"
   ]
  },
  {
   "cell_type": "code",
   "execution_count": 4,
   "id": "f82cf2f9-2ae9-433f-98a2-089175d3e536",
   "metadata": {},
   "outputs": [],
   "source": [
    "cp -R example_content example_content_copy"
   ]
  },
  {
   "cell_type": "code",
   "execution_count": 5,
   "id": "f9f850c8-1fbd-46c5-a3d9-f315c9bab995",
   "metadata": {},
   "outputs": [],
   "source": [
    "mkdir all_data"
   ]
  },
  {
   "cell_type": "code",
   "execution_count": 6,
   "id": "059064cb-e345-4278-b84c-decfa285bc9a",
   "metadata": {},
   "outputs": [
    {
     "name": "stdout",
     "output_type": "stream",
     "text": [
      "all_data\t\t\texample_content\n",
      "basicstats_clean_tax.ipynb\texample_content_copy\n"
     ]
    }
   ],
   "source": [
    "ls"
   ]
  },
  {
   "cell_type": "markdown",
   "id": "b69d3cf6-70c8-4572-be53-c8c44786502c",
   "metadata": {},
   "source": [
    "move back to example_content directory"
   ]
  },
  {
   "cell_type": "code",
   "execution_count": 7,
   "id": "e5688879-da10-4416-9ba1-defa60088352",
   "metadata": {},
   "outputs": [],
   "source": [
    "cd example_content"
   ]
  },
  {
   "cell_type": "markdown",
   "id": "8cdf7a90-c8a0-4e1f-9d23-a9ab42c74a1a",
   "metadata": {},
   "source": [
    "locate all files ending with .gz in all subfolders within the directory. The `*` character means that any other characters can preceed .gz. The `mindepth` command specifies to perform commands that follow at the subdirectory level (1=root). The empty `{}` allows all files meeting the criteria to be moved.  The `print` command allows user to monitor files"
   ]
  },
  {
   "cell_type": "code",
   "execution_count": 8,
   "id": "478fff23-b49b-42f5-863e-c81ffb56ca56",
   "metadata": {},
   "outputs": [
    {
     "name": "stdout",
     "output_type": "stream",
     "text": [
      "./ERR1424901/ERR1424901_2.fastq.gz\n",
      "./ERR1424901/ERR1424901_1.fastq.gz\n",
      "./ERR1424900/ERR1424900_1.fastq.gz\n",
      "./ERR1424900/ERR1424900_2.fastq.gz\n",
      "./ERR1424899/ERR1424899_2.fastq.gz\n",
      "./ERR1424899/ERR1424899_1.fastq.gz\n",
      "./ERR1424902/ERR1424902_1.fastq.gz\n",
      "./ERR1424902/ERR1424902_2.fastq.gz\n",
      "./ERR1424903/ERR1424903_2.fastq.gz\n",
      "./ERR1424903/ERR1424903_1.fastq.gz\n"
     ]
    }
   ],
   "source": [
    "find . -mindepth 2 -type f -name '*.gz' -print -exec mv {} ../all_data \\;"
   ]
  },
  {
   "cell_type": "markdown",
   "id": "620ad13a-e8ef-4e74-8e47-0bd2e6f0b2df",
   "metadata": {},
   "source": [
    "move into the `all_data` subdirectory to check that all the `.fastq.gz` files have moved."
   ]
  },
  {
   "cell_type": "code",
   "execution_count": 9,
   "id": "05d5f66c-bf0a-4436-a130-17b0ff3cf73c",
   "metadata": {},
   "outputs": [],
   "source": [
    "cd ../all_data"
   ]
  },
  {
   "cell_type": "code",
   "execution_count": 10,
   "id": "79a776ec-6c92-4985-a6d3-fc93a2155845",
   "metadata": {},
   "outputs": [
    {
     "name": "stdout",
     "output_type": "stream",
     "text": [
      "ERR1424899_1.fastq.gz\tERR1424901_1.fastq.gz\tERR1424903_1.fastq.gz\n",
      "ERR1424899_2.fastq.gz\tERR1424901_2.fastq.gz\tERR1424903_2.fastq.gz\n",
      "ERR1424900_1.fastq.gz\tERR1424902_1.fastq.gz\n",
      "ERR1424900_2.fastq.gz\tERR1424902_2.fastq.gz\n"
     ]
    }
   ],
   "source": [
    "ls"
   ]
  },
  {
   "cell_type": "markdown",
   "id": "ef3face1-a23c-427c-b437-e43471cd1537",
   "metadata": {},
   "source": [
    "Now, we delete the original example_content directory, which is empty."
   ]
  },
  {
   "cell_type": "code",
   "execution_count": 11,
   "id": "5c6b91ac-6781-45b9-9e6d-268fcb297d45",
   "metadata": {},
   "outputs": [],
   "source": [
    "rm -r ../example_content"
   ]
  },
  {
   "cell_type": "markdown",
   "id": "7d93d703-9192-49f5-8321-7ed1f5fc6b15",
   "metadata": {},
   "source": [
    "First, I am going to trim reads using the tool BBDUK from bbtools to avoid adapter contamination. I will start with one file to demonstrate syntax. \n",
    "\n",
    "We call the tool bbduk within bbtools by `bbduk.sh`. Then, provide input file and output directory/name. The reference library used for trimming is adapters, which contains all illumina adapter sequences. `ktrim` directions determine whether the 3' (right) or 5' (left) adapters are trimmed. In this case, we are setting it to trim the 3' adapter. "
   ]
  },
  {
   "cell_type": "code",
   "execution_count": 12,
   "id": "ed63845e-33af-48ca-a191-11bc2053949a",
   "metadata": {},
   "outputs": [],
   "source": [
    "mkdir ../trimmed_reads"
   ]
  },
  {
   "cell_type": "code",
   "execution_count": 13,
   "id": "422c1d6e-c8f5-46ed-ac06-90c514b825ac",
   "metadata": {},
   "outputs": [
    {
     "name": "stdout",
     "output_type": "stream",
     "text": [
      "/usr/local/Cellar/bbtools/38.94/libexec//calcmem.sh: line 75: [: -v: unary operator expected\n",
      "Max memory cannot be determined.  Attempting to use 1400 MB.\n",
      "If this fails, please add the -Xmx flag (e.g. -Xmx24g) to your command, \n",
      "or run this program qsubbed or from a qlogin session on Genepool, or set ulimit to an appropriate value.\n",
      "java -ea -Xmx1400m -Xms1400m -cp /usr/local/Cellar/bbtools/38.94/libexec/current/ jgi.BBDuk in=ERR1424899_1.fastq.gz out=../trimmed_reads/trimmed_ERR1424899_1.fastq.gz ref=adapters ktrim=r\n",
      "Executing jgi.BBDuk [in=ERR1424899_1.fastq.gz, out=../trimmed_reads/trimmed_ERR1424899_1.fastq.gz, ref=adapters, ktrim=r]\n",
      "Version 38.94\n",
      "\n",
      "0.030 seconds.\n",
      "Initial:\n",
      "Memory: max=1468m, total=1468m, free=1439m, used=29m\n",
      "\n",
      "Added 2970 kmers; time: \t0.060 seconds.\n",
      "Memory: max=1468m, total=1468m, free=1435m, used=33m\n",
      "\n",
      "Input is being processed as unpaired\n",
      "Started output streams:\t0.065 seconds.\n",
      "Processing time:   \t\t24.663 seconds.\n",
      "\n",
      "Input:                  \t2708070 reads \t\t470915036 bases.\n",
      "KTrimmed:               \t8730 reads (0.32%) \t1371487 bases (0.29%)\n",
      "Total Removed:          \t512 reads (0.02%) \t1371487 bases (0.29%)\n",
      "Result:                 \t2707558 reads (99.98%) \t469543549 bases (99.71%)\n",
      "\n",
      "Time:                         \t24.792 seconds.\n",
      "Reads Processed:       2708k \t109.23k reads/sec\n",
      "Bases Processed:        470m \t18.99m bases/sec\n"
     ]
    }
   ],
   "source": [
    "bbduk.sh in=ERR1424899_1.fastq.gz out=../trimmed_reads/trimmed_ERR1424899_1.fastq.gz ref=adapters ktrim=r"
   ]
  },
  {
   "cell_type": "markdown",
   "id": "ed1eeaa6-64a6-442f-8ff4-2def4be351d6",
   "metadata": {},
   "source": [
    "Now that the reads have been trimmed, let's try to do a simple classification of the 16S genes using the package Kraken2. This was Homebrew installed on my machine. We will redirect raw outputs to `null`"
   ]
  },
  {
   "cell_type": "code",
   "execution_count": 15,
   "id": "a43d6d95-f8bf-47cd-bee7-dfd4daf5a853",
   "metadata": {},
   "outputs": [],
   "source": [
    "cd .."
   ]
  },
  {
   "cell_type": "code",
   "execution_count": 16,
   "id": "5d7d3b6f-e558-47c0-877a-86d67621410a",
   "metadata": {},
   "outputs": [],
   "source": [
    "mkdir reports"
   ]
  },
  {
   "cell_type": "code",
   "execution_count": 25,
   "id": "4e6b7173-3136-43e4-ba76-50ee77d685db",
   "metadata": {},
   "outputs": [],
   "source": [
    "mkdir text"
   ]
  },
  {
   "cell_type": "markdown",
   "id": "f821833b-f10d-4ed2-899a-537e987255aa",
   "metadata": {},
   "source": [
    "Before running Kraken2, we need to define the path of the taxonomy databases"
   ]
  },
  {
   "cell_type": "code",
   "execution_count": 20,
   "id": "80758123-70d8-4d40-8d5d-d121bf7dfd78",
   "metadata": {},
   "outputs": [],
   "source": [
    "export KRAKEN2_DB_PATH='/Users/ashley/Applications/kraken2-2.0.9-beta/'"
   ]
  },
  {
   "cell_type": "markdown",
   "id": "d8012f09-6612-4474-8149-4fd005354302",
   "metadata": {},
   "source": [
    "We will run kraken2 taxonomy (using the SILVA 16S database) on the trimmed file, and produce a report. Confidence (0-1) will be set to 0.5. To skip producing default text output, follow input file name with `> /dev/null` . If skipping text output, do not enter `output` information"
   ]
  },
  {
   "cell_type": "code",
   "execution_count": 28,
   "id": "44f21d9a-4838-49a6-8e1a-833876185462",
   "metadata": {},
   "outputs": [
    {
     "name": "stdout",
     "output_type": "stream",
     "text": [
      "Loading database information... done.\n",
      "2707558 sequences (469.54 Mbp) processed in 43.434s (3740.3 Kseq/m, 648.63 Mbp/m).\n",
      "  7097 sequences classified (0.26%)\n",
      "  2700461 sequences unclassified (99.74%)\n"
     ]
    }
   ],
   "source": [
    "/Users/ashley/Applications/kraken2-2.0.9-beta/kraken2 --db silva --confidence 0.5 --output text/kraken2_text_trimmed_ERR1424899_1.tsv --report reports/kraken2_report_trimmed_ERR1424899_1.tsv trimmed_reads/trimmed_ERR1424899_1.fastq.gz"
   ]
  },
  {
   "cell_type": "markdown",
   "id": "76f6c656-27a1-49e0-85e6-e61854e047b2",
   "metadata": {},
   "source": [
    "The report has a particular format. Let's take a look at the first few lines.The first column is the percentage of sequence fragments covered by the clade root, the second column is the number of sequence fragments covered by the clade root, the 3rd column is number of sequence fragments assigned directly to the taxon, the 4th column is the taxonomic level, the 5th column is the NCBI taxonomic ID, and the final column is the taxonomy (scientific name)"
   ]
  },
  {
   "cell_type": "code",
   "execution_count": 29,
   "id": "bc3bd03a-868c-4338-92d0-5a0d8a60957a",
   "metadata": {},
   "outputs": [
    {
     "name": "stdout",
     "output_type": "stream",
     "text": [
      " 99.74\t2700461\t2700461\tU\t0\tunclassified\n",
      "  0.26\t7097\t203\tR\t1\troot\n",
      "  0.20\t5385\t1486\tD\t4\t  Eukaryota\n",
      "  0.14\t3784\t0\tD1\t46848\t    Amorphea\n",
      "  0.14\t3784\t0\tD2\t46957\t      Obazoa\n",
      "  0.14\t3784\t3\tD3\t46958\t        Opisthokonta\n",
      "  0.14\t3781\t0\tD\t46959\t          Holozoa\n",
      "  0.14\t3781\t1\tD1\t46960\t            Choanozoa\n",
      "  0.14\t3780\t0\tD2\t47021\t              Metazoa\n",
      "  0.14\t3780\t0\tK\t47022\t                Animalia\n"
     ]
    }
   ],
   "source": [
    "head reports/kraken2_report_trimmed_ERR1424899_1.tsv"
   ]
  },
  {
   "cell_type": "markdown",
   "id": "3e6c0f40-8327-43a4-ba5c-04c08f2cf462",
   "metadata": {},
   "source": [
    "next, let's take a look at the text output, which also has a particular format. The first column indicates whether the sequence was classified or not, the second column is the sequence ID within the fastq file, the 3rd column is the taxonomy ID assigned to the sequence by Kraken2 (0 if unclassified), the 4th column is the sequence length in bp, and the last column is the kmer map. For example- 0:66 means 66 kmers were mapped to unclassified. "
   ]
  },
  {
   "cell_type": "code",
   "execution_count": 30,
   "id": "954679e3-e6f4-48fd-a53f-1942396221a7",
   "metadata": {},
   "outputs": [
    {
     "name": "stdout",
     "output_type": "stream",
     "text": [
      "U\tERR1424899.601\t0\t100\t0:66\n",
      "U\tERR1424899.602\t0\t75\t0:41\n",
      "U\tERR1424899.603\t0\t220\t0:186\n",
      "U\tERR1424899.604\t0\t285\t0:251\n",
      "U\tERR1424899.605\t0\t296\t0:262\n",
      "U\tERR1424899.606\t0\t215\t0:181\n",
      "U\tERR1424899.607\t0\t95\t0:61\n",
      "U\tERR1424899.608\t0\t215\t0:181\n",
      "U\tERR1424899.609\t0\t130\t0:96\n",
      "U\tERR1424899.610\t0\t85\t0:51\n"
     ]
    }
   ],
   "source": [
    "head text/kraken2_text_trimmed_ERR1424899_1.tsv"
   ]
  },
  {
   "cell_type": "markdown",
   "id": "72a684f7-9714-4bbc-9a29-79fccd6ca539",
   "metadata": {},
   "source": [
    "Great! now we know how to trim and classify a fastq read file. But what if (as is the case most of the time), it is paired-end? This simply requires a couple of extra arguments in bbduk and kraken2. For bbduk, I am using the recommended settings for trimming by the developers. `k` specifies the kmer length in bp. `mink ` is the minimum allowable kmer length at the end of the sequence, `hdist` is allowable mismatch, `tpe` is trimmed paired end (or make both trimmed reads the same length), `tbo` is trim by overlap, and `ow=t` allows existing files to be overwritten"
   ]
  },
  {
   "cell_type": "markdown",
   "id": "48283755-3abd-47dc-baeb-4ab4cfa4aa48",
   "metadata": {},
   "source": [
    "bbduk.sh in=all_data/ERR1424899_1.fastq.gz in2=all_data/ERR1424899_2.fastq.gz out=trimmed_reads/trimmed_ERR1424899_1.fastq.gz out2=trimmed_reads/trimmed_ERR1424899_2.fastq.gz ref=adapters ktrim=r k=23 mink=11 hdist=1 tpe tbo ow=t"
   ]
  },
  {
   "cell_type": "markdown",
   "id": "9ce8ec2d-d1ba-409e-9ab6-7c61168a5cf6",
   "metadata": {},
   "source": [
    "Then run kraken2 on the paired-end data"
   ]
  },
  {
   "cell_type": "code",
   "execution_count": 33,
   "id": "0d024a88-9c97-409e-9e33-afad5e3d25e6",
   "metadata": {},
   "outputs": [
    {
     "name": "stdout",
     "output_type": "stream",
     "text": [
      "Loading database information... done.\n",
      "2707385 sequences (930.91 Mbp) processed in 82.742s (1963.3 Kseq/m, 675.05 Mbp/m).\n",
      "  10538 sequences classified (0.39%)\n",
      "  2696847 sequences unclassified (99.61%)\n"
     ]
    }
   ],
   "source": [
    "/Users/ashley/Applications/kraken2-2.0.9-beta/kraken2 --db silva --confidence 0.5 --output text/kraken2_text_trimmed_ERR1424899_paired.tsv --report reports/kraken2_report_trimmed_ERR1424899_paired.tsv --paired trimmed_reads/trimmed_ERR1424899_1.fastq.gz trimmed_reads/trimmed_ERR1424899_2.fastq.gz"
   ]
  },
  {
   "cell_type": "code",
   "execution_count": 34,
   "id": "856a4b0c-1706-4bd0-9686-16abb6319206",
   "metadata": {},
   "outputs": [
    {
     "name": "stdout",
     "output_type": "stream",
     "text": [
      " 99.61\t2696847\t2696847\tU\t0\tunclassified\n",
      "  0.39\t10538\t205\tR\t1\troot\n",
      "  0.32\t8597\t1746\tD\t4\t  Eukaryota\n",
      "  0.25\t6743\t0\tD1\t46848\t    Amorphea\n",
      "  0.25\t6743\t0\tD2\t46957\t      Obazoa\n",
      "  0.25\t6743\t2\tD3\t46958\t        Opisthokonta\n",
      "  0.25\t6740\t0\tD\t46959\t          Holozoa\n",
      "  0.25\t6740\t2\tD1\t46960\t            Choanozoa\n",
      "  0.25\t6738\t0\tD2\t47021\t              Metazoa\n",
      "  0.25\t6738\t0\tK\t47022\t                Animalia\n"
     ]
    }
   ],
   "source": [
    "head reports/kraken2_report_trimmed_ERR1424899_paired.tsv"
   ]
  },
  {
   "cell_type": "markdown",
   "id": "a4121b6c-6aca-4a7c-b6f4-d5fcf058068a",
   "metadata": {},
   "source": [
    "Note that the output text is slightly different because it is from paired reads. So, in column 4 the format is bp forward read|bp reverse read. the `|` character is used to indicate read types in column 5 also."
   ]
  },
  {
   "cell_type": "code",
   "execution_count": 35,
   "id": "5504eba1-a28e-44d4-8c1d-e89c7de2ec10",
   "metadata": {},
   "outputs": [
    {
     "name": "stdout",
     "output_type": "stream",
     "text": [
      "U\tERR1424899.1\t0\t145|136\t0:110 2375:1 |:| 0:102\n",
      "U\tERR1424899.2\t0\t145|193\t0:111 |:| 0:159\n",
      "U\tERR1424899.3\t0\t143|139\t0:109 |:| 0:105\n",
      "U\tERR1424899.4\t0\t115|193\t0:81 |:| 0:159\n",
      "U\tERR1424899.5\t0\t185|182\t0:151 |:| 0:148\n",
      "U\tERR1424899.6\t0\t203|164\t0:121 26859:2 0:46 |:| 0:130\n",
      "U\tERR1424899.7\t0\t100|174\t0:66 |:| 0:126 26856:2 0:12\n",
      "U\tERR1424899.8\t0\t293|182\t0:259 |:| 0:36 5610:2 0:110\n",
      "U\tERR1424899.9\t0\t120|120\t0:86 |:| 0:86\n",
      "U\tERR1424899.10\t0\t263|203\t0:229 |:| 0:36 26856:2 0:39 26856:2 0:90\n"
     ]
    }
   ],
   "source": [
    "head text/kraken2_text_trimmed_ERR1424899_paired.tsv"
   ]
  },
  {
   "cell_type": "markdown",
   "id": "2701fec5-6e32-427b-9e84-1143147ea7fa",
   "metadata": {},
   "source": [
    "Now that we know what to do for one pair of reads, let's loop through all of the read pairs. This loop will set the variable `prefix` to each unique read set name"
   ]
  },
  {
   "cell_type": "code",
   "execution_count": 36,
   "id": "9278af39-734a-4a93-be73-4465dbfa8cfa",
   "metadata": {},
   "outputs": [],
   "source": [
    "cd all_data"
   ]
  },
  {
   "cell_type": "code",
   "execution_count": 39,
   "id": "814f5a76-9714-4488-a574-7236acc76b5d",
   "metadata": {},
   "outputs": [
    {
     "name": "stdout",
     "output_type": "stream",
     "text": [
      "ERR1424899\n",
      "/usr/local/Cellar/bbtools/38.94/libexec//calcmem.sh: line 75: [: -v: unary operator expected\n",
      "Max memory cannot be determined.  Attempting to use 1400 MB.\n",
      "If this fails, please add the -Xmx flag (e.g. -Xmx24g) to your command, \n",
      "or run this program qsubbed or from a qlogin session on Genepool, or set ulimit to an appropriate value.\n",
      "java -ea -Xmx1400m -Xms1400m -cp /usr/local/Cellar/bbtools/38.94/libexec/current/ jgi.BBDuk in=ERR1424899_1.fastq.gz in2=ERR1424899_2.fastq.gz out=../trimmed_reads/trimmed_ERR1424899_1.fastq.gz out2=../trimmed_reads/trimmed_ERR1424899_2.fastq.gz ref=adapters ktrim=r k=23 mink=11 hdist=1 tbo ow=t\n",
      "Executing jgi.BBDuk [in=ERR1424899_1.fastq.gz, in2=ERR1424899_2.fastq.gz, out=../trimmed_reads/trimmed_ERR1424899_1.fastq.gz, out2=../trimmed_reads/trimmed_ERR1424899_2.fastq.gz, ref=adapters, ktrim=r, k=23, mink=11, hdist=1, tbo, ow=t]\n",
      "Version 38.94\n",
      "\n",
      "maskMiddle was disabled because useShortKmers=true\n",
      "0.040 seconds.\n",
      "Initial:\n",
      "Memory: max=1468m, total=1468m, free=1439m, used=29m\n",
      "\n",
      "Added 217135 kmers; time: \t0.269 seconds.\n",
      "Memory: max=1468m, total=1468m, free=1435m, used=33m\n",
      "\n",
      "Input is being processed as paired\n",
      "Started output streams:\t0.162 seconds.\n",
      "Processing time:   \t\t105.482 seconds.\n",
      "\n",
      "Input:                  \t5416140 reads \t\t937014505 bases.\n",
      "KTrimmed:               \t33968 reads (0.63%) \t4192082 bases (0.45%)\n",
      "Trimmed by overlap:     \t4769 reads (0.09%) \t332442 bases (0.04%)\n",
      "Total Removed:          \t1370 reads (0.03%) \t4524524 bases (0.48%)\n",
      "Result:                 \t5414770 reads (99.97%) \t932489981 bases (99.52%)\n",
      "\n",
      "Time:                         \t105.917 seconds.\n",
      "Reads Processed:       5416k \t51.14k reads/sec\n",
      "Bases Processed:        937m \t8.85m bases/sec\n",
      "Loading database information... done.\n",
      "2707385 sequences (932.49 Mbp) processed in 99.668s (1629.8 Kseq/m, 561.36 Mbp/m).\n",
      "  9968 sequences classified (0.37%)\n",
      "  2697417 sequences unclassified (99.63%)\n",
      "ERR1424900\n",
      "/usr/local/Cellar/bbtools/38.94/libexec//calcmem.sh: line 75: [: -v: unary operator expected\n",
      "Max memory cannot be determined.  Attempting to use 1400 MB.\n",
      "If this fails, please add the -Xmx flag (e.g. -Xmx24g) to your command, \n",
      "or run this program qsubbed or from a qlogin session on Genepool, or set ulimit to an appropriate value.\n",
      "java -ea -Xmx1400m -Xms1400m -cp /usr/local/Cellar/bbtools/38.94/libexec/current/ jgi.BBDuk in=ERR1424900_1.fastq.gz in2=ERR1424900_2.fastq.gz out=../trimmed_reads/trimmed_ERR1424900_1.fastq.gz out2=../trimmed_reads/trimmed_ERR1424900_2.fastq.gz ref=adapters ktrim=r k=23 mink=11 hdist=1 tbo ow=t\n",
      "Executing jgi.BBDuk [in=ERR1424900_1.fastq.gz, in2=ERR1424900_2.fastq.gz, out=../trimmed_reads/trimmed_ERR1424900_1.fastq.gz, out2=../trimmed_reads/trimmed_ERR1424900_2.fastq.gz, ref=adapters, ktrim=r, k=23, mink=11, hdist=1, tbo, ow=t]\n",
      "Version 38.94\n",
      "\n",
      "maskMiddle was disabled because useShortKmers=true\n",
      "0.046 seconds.\n",
      "Initial:\n",
      "Memory: max=1468m, total=1468m, free=1439m, used=29m\n",
      "\n",
      "Added 217135 kmers; time: \t0.331 seconds.\n",
      "Memory: max=1468m, total=1468m, free=1434m, used=34m\n",
      "\n",
      "Input is being processed as paired\n",
      "Started output streams:\t0.167 seconds.\n",
      "Processing time:   \t\t108.898 seconds.\n",
      "\n",
      "Input:                  \t5640660 reads \t\t880444899 bases.\n",
      "KTrimmed:               \t44007 reads (0.78%) \t5836901 bases (0.66%)\n",
      "Trimmed by overlap:     \t5230 reads (0.09%) \t291612 bases (0.03%)\n",
      "Total Removed:          \t1498 reads (0.03%) \t6128513 bases (0.70%)\n",
      "Result:                 \t5639162 reads (99.97%) \t874316386 bases (99.30%)\n",
      "\n",
      "Time:                         \t109.402 seconds.\n",
      "Reads Processed:       5640k \t51.56k reads/sec\n",
      "Bases Processed:        880m \t8.05m bases/sec\n",
      "Loading database information... done.\n",
      "2819581 sequences (874.32 Mbp) processed in 84.325s (2006.2 Kseq/m, 622.11 Mbp/m).\n",
      "  11946 sequences classified (0.42%)\n",
      "  2807635 sequences unclassified (99.58%)\n",
      "ERR1424901\n",
      "/usr/local/Cellar/bbtools/38.94/libexec//calcmem.sh: line 75: [: -v: unary operator expected\n",
      "Max memory cannot be determined.  Attempting to use 1400 MB.\n",
      "If this fails, please add the -Xmx flag (e.g. -Xmx24g) to your command, \n",
      "or run this program qsubbed or from a qlogin session on Genepool, or set ulimit to an appropriate value.\n",
      "java -ea -Xmx1400m -Xms1400m -cp /usr/local/Cellar/bbtools/38.94/libexec/current/ jgi.BBDuk in=ERR1424901_1.fastq.gz in2=ERR1424901_2.fastq.gz out=../trimmed_reads/trimmed_ERR1424901_1.fastq.gz out2=../trimmed_reads/trimmed_ERR1424901_2.fastq.gz ref=adapters ktrim=r k=23 mink=11 hdist=1 tbo ow=t\n",
      "Executing jgi.BBDuk [in=ERR1424901_1.fastq.gz, in2=ERR1424901_2.fastq.gz, out=../trimmed_reads/trimmed_ERR1424901_1.fastq.gz, out2=../trimmed_reads/trimmed_ERR1424901_2.fastq.gz, ref=adapters, ktrim=r, k=23, mink=11, hdist=1, tbo, ow=t]\n",
      "Version 38.94\n",
      "\n",
      "maskMiddle was disabled because useShortKmers=true\n",
      "0.053 seconds.\n",
      "Initial:\n",
      "Memory: max=1468m, total=1468m, free=1439m, used=29m\n",
      "\n",
      "Added 217135 kmers; time: \t0.276 seconds.\n",
      "Memory: max=1468m, total=1468m, free=1434m, used=34m\n",
      "\n",
      "Input is being processed as paired\n",
      "Started output streams:\t0.260 seconds.\n",
      "Processing time:   \t\t64.462 seconds.\n",
      "\n",
      "Input:                  \t3002386 reads \t\t557345695 bases.\n",
      "KTrimmed:               \t18864 reads (0.63%) \t2349185 bases (0.42%)\n",
      "Trimmed by overlap:     \t2962 reads (0.10%) \t222966 bases (0.04%)\n",
      "Total Removed:          \t1158 reads (0.04%) \t2572151 bases (0.46%)\n",
      "Result:                 \t3001228 reads (99.96%) \t554773544 bases (99.54%)\n",
      "\n",
      "Time:                         \t65.005 seconds.\n",
      "Reads Processed:       3002k \t46.19k reads/sec\n",
      "Bases Processed:        557m \t8.57m bases/sec\n",
      "Loading database information... done.\n",
      "1500614 sequences (554.77 Mbp) processed in 60.417s (1490.2 Kseq/m, 550.94 Mbp/m).\n",
      "  4180 sequences classified (0.28%)\n",
      "  1496434 sequences unclassified (99.72%)\n",
      "ERR1424902\n",
      "/usr/local/Cellar/bbtools/38.94/libexec//calcmem.sh: line 75: [: -v: unary operator expected\n",
      "Max memory cannot be determined.  Attempting to use 1400 MB.\n",
      "If this fails, please add the -Xmx flag (e.g. -Xmx24g) to your command, \n",
      "or run this program qsubbed or from a qlogin session on Genepool, or set ulimit to an appropriate value.\n",
      "java -ea -Xmx1400m -Xms1400m -cp /usr/local/Cellar/bbtools/38.94/libexec/current/ jgi.BBDuk in=ERR1424902_1.fastq.gz in2=ERR1424902_2.fastq.gz out=../trimmed_reads/trimmed_ERR1424902_1.fastq.gz out2=../trimmed_reads/trimmed_ERR1424902_2.fastq.gz ref=adapters ktrim=r k=23 mink=11 hdist=1 tbo ow=t\n",
      "Executing jgi.BBDuk [in=ERR1424902_1.fastq.gz, in2=ERR1424902_2.fastq.gz, out=../trimmed_reads/trimmed_ERR1424902_1.fastq.gz, out2=../trimmed_reads/trimmed_ERR1424902_2.fastq.gz, ref=adapters, ktrim=r, k=23, mink=11, hdist=1, tbo, ow=t]\n",
      "Version 38.94\n",
      "\n",
      "maskMiddle was disabled because useShortKmers=true\n",
      "0.051 seconds.\n",
      "Initial:\n",
      "Memory: max=1468m, total=1468m, free=1439m, used=29m\n",
      "\n",
      "Added 217135 kmers; time: \t0.365 seconds.\n",
      "Memory: max=1468m, total=1468m, free=1435m, used=33m\n",
      "\n",
      "Input is being processed as paired\n",
      "Started output streams:\t0.128 seconds.\n",
      "Processing time:   \t\t39.452 seconds.\n",
      "\n",
      "Input:                  \t1670780 reads \t\t309504457 bases.\n",
      "KTrimmed:               \t14175 reads (0.85%) \t1848146 bases (0.60%)\n",
      "Trimmed by overlap:     \t1941 reads (0.12%) \t109651 bases (0.04%)\n",
      "Total Removed:          \t804 reads (0.05%) \t1957797 bases (0.63%)\n",
      "Result:                 \t1669976 reads (99.95%) \t307546660 bases (99.37%)\n",
      "\n",
      "Time:                         \t39.948 seconds.\n",
      "Reads Processed:       1670k \t41.82k reads/sec\n",
      "Bases Processed:        309m \t7.75m bases/sec\n",
      "Loading database information... done.\n",
      "834988 sequences (307.55 Mbp) processed in 33.092s (1513.9 Kseq/m, 557.61 Mbp/m).\n",
      "  1900 sequences classified (0.23%)\n",
      "  833088 sequences unclassified (99.77%)\n",
      "ERR1424903\n",
      "/usr/local/Cellar/bbtools/38.94/libexec//calcmem.sh: line 75: [: -v: unary operator expected\n",
      "Max memory cannot be determined.  Attempting to use 1400 MB.\n",
      "If this fails, please add the -Xmx flag (e.g. -Xmx24g) to your command, \n",
      "or run this program qsubbed or from a qlogin session on Genepool, or set ulimit to an appropriate value.\n",
      "java -ea -Xmx1400m -Xms1400m -cp /usr/local/Cellar/bbtools/38.94/libexec/current/ jgi.BBDuk in=ERR1424903_1.fastq.gz in2=ERR1424903_2.fastq.gz out=../trimmed_reads/trimmed_ERR1424903_1.fastq.gz out2=../trimmed_reads/trimmed_ERR1424903_2.fastq.gz ref=adapters ktrim=r k=23 mink=11 hdist=1 tbo ow=t\n",
      "Executing jgi.BBDuk [in=ERR1424903_1.fastq.gz, in2=ERR1424903_2.fastq.gz, out=../trimmed_reads/trimmed_ERR1424903_1.fastq.gz, out2=../trimmed_reads/trimmed_ERR1424903_2.fastq.gz, ref=adapters, ktrim=r, k=23, mink=11, hdist=1, tbo, ow=t]\n",
      "Version 38.94\n",
      "\n",
      "maskMiddle was disabled because useShortKmers=true\n",
      "0.052 seconds.\n",
      "Initial:\n",
      "Memory: max=1468m, total=1468m, free=1439m, used=29m\n",
      "\n",
      "Added 217135 kmers; time: \t0.212 seconds.\n",
      "Memory: max=1468m, total=1468m, free=1434m, used=34m\n",
      "\n",
      "Input is being processed as paired\n",
      "Started output streams:\t0.136 seconds.\n",
      "Processing time:   \t\t24.109 seconds.\n",
      "\n",
      "Input:                  \t1186302 reads \t\t201762563 bases.\n",
      "KTrimmed:               \t11784 reads (0.99%) \t1517844 bases (0.75%)\n",
      "Trimmed by overlap:     \t893 reads (0.08%) \t68364 bases (0.03%)\n",
      "Total Removed:          \t410 reads (0.03%) \t1586208 bases (0.79%)\n",
      "Result:                 \t1185892 reads (99.97%) \t200176355 bases (99.21%)\n",
      "\n",
      "Time:                         \t24.463 seconds.\n",
      "Reads Processed:       1186k \t48.49k reads/sec\n",
      "Bases Processed:        201m \t8.25m bases/sec\n",
      "Loading database information... done.\n",
      "592946 sequences (200.18 Mbp) processed in 21.660s (1642.5 Kseq/m, 554.50 Mbp/m).\n",
      "  2181 sequences classified (0.37%)\n",
      "  590765 sequences unclassified (99.63%)\n"
     ]
    }
   ],
   "source": [
    "for prefix in `ls *.gz | cut -f1 -d'_' | sort -u`; do\n",
    "echo $prefix\n",
    "read1=( ${prefix}*_1.fastq.gz ) \n",
    "read2=( ${prefix}*_2.fastq.gz )\n",
    "\n",
    "bbduk.sh in=${read1} in2=${read2} out=../trimmed_reads/trimmed_${read1} out2=../trimmed_reads/trimmed_${read2} ref=adapters ktrim=r k=23 mink=11 hdist=1 tbo ow=t\n",
    "/Users/ashley/Applications/kraken2-2.0.9-beta/kraken2 --db silva --confidence 0.5 --output ../text/kraken2_text_trimmed_${prefix}.tsv --report ../reports/kraken2_report_trimmed_${prefix}.tsv --paired ../trimmed_reads/trimmed_${read1} ../trimmed_reads/trimmed_${read2}\n",
    "done"
   ]
  },
  {
   "cell_type": "markdown",
   "id": "e2e46985-6f59-4eb0-b166-c04b1d32eecd",
   "metadata": {},
   "source": [
    "Now we will use Krona to visualize our results. Because this was conda installed, into my metagenome conda environment, I will need to activate the conda environment first. "
   ]
  },
  {
   "cell_type": "markdown",
   "id": "61fa6489-4865-4170-9252-2e4896464070",
   "metadata": {},
   "source": [
    "to list all the packages in the environment:"
   ]
  },
  {
   "cell_type": "code",
   "execution_count": 2,
   "id": "c578391d-fc66-4d1e-8b7b-8019f2481e02",
   "metadata": {},
   "outputs": [
    {
     "name": "stdout",
     "output_type": "stream",
     "text": [
      "# packages in environment at /Users/ashley/miniconda3/envs/metagenome:\n",
      "#\n",
      "# Name                    Version                   Build  Channel\n",
      "c-ares                    1.17.1               h9ed2024_0  \n",
      "ca-certificates           2021.10.26           hecd8cb5_2  \n",
      "curl                      7.80.0               hca72f7f_0  \n",
      "krb5                      1.19.2               hcd88c3b_0  \n",
      "krona                     2.8.1           pl5262hdfd78af_0    bioconda\n",
      "libcurl                   7.80.0               h6dfd666_0  \n",
      "libcxx                    12.0.0               h2f01273_0  \n",
      "libedit                   3.1.20210910         hca72f7f_0  \n",
      "libev                     4.33                 h9ed2024_1  \n",
      "libnghttp2                1.46.0               ha29bfda_0  \n",
      "libssh2                   1.9.0                ha12b0ac_1  \n",
      "ncurses                   6.3                  hca72f7f_2  \n",
      "openssl                   1.1.1l               h9ed2024_0  \n",
      "perl                      5.26.2               h4e221da_0  \n",
      "zlib                      1.2.11               h4dc903c_4  \n"
     ]
    }
   ],
   "source": [
    "conda list --name metagenome"
   ]
  },
  {
   "cell_type": "code",
   "execution_count": null,
   "id": "7e94fef9-c859-4681-8b9a-3a7b3e251c37",
   "metadata": {},
   "outputs": [],
   "source": []
  }
 ],
 "metadata": {
  "kernelspec": {
   "display_name": "Bash",
   "language": "bash",
   "name": "bash"
  },
  "language_info": {
   "codemirror_mode": "shell",
   "file_extension": ".sh",
   "mimetype": "text/x-sh",
   "name": "bash"
  }
 },
 "nbformat": 4,
 "nbformat_minor": 5
}
