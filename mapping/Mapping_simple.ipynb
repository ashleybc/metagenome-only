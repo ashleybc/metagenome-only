{
 "cells": [
  {
   "cell_type": "markdown",
   "id": "7dc85e06-566f-4453-8c53-1df5e54b2d92",
   "metadata": {},
   "source": [
    "This code will show how to map reads of paired-end metagenomes to a reference genome using `bbmap` in BASH. \n",
    "\n",
    "Sample data from ENA:\n",
    "\n",
    "Arctic Ocean metagenomes sampled aboard CGC Healy during the 2015 GEOTRACES Arctic research cruise Secondary Study Accession:ERP015773 Study Title:Arctic Ocean metagenomes from HLY1502 Center Name:UNIVERSITY OF ALASKA FAIRBANKS Study Name:Arctic Ocean metagenomes ENA-FIRST-PUBLIC:2016-05-27 ENA-LAST-UPDATE:2016-05-25\n",
    "\n",
    "Can be found at: https://www.ebi.ac.uk/ena/browser/view/PRJEB14154?show=reads\n",
    "\n",
    "I have used the first 5 pairs of Generated FASTQ files\n",
    "\n",
    "For the sake of brevity, I will use just one reference genome for mapping in this exercise, [E.coli K-12 substr. MG1655](https://www.ncbi.nlm.nih.gov/assembly/GCF_000005845.2). Other reference genomes can be found at https://www.ncbi.nlm.nih.gov/refseq/about/prokaryotes/\n",
    "\n",
    "move into content folder:"
   ]
  },
  {
   "cell_type": "code",
   "execution_count": 1,
   "id": "65473f9d-5e68-47e3-a387-3f98fbdddc78",
   "metadata": {},
   "outputs": [],
   "source": [
    "cd example_content"
   ]
  },
  {
   "cell_type": "markdown",
   "id": "53271263-d0e2-4c03-9ae9-89775599cee2",
   "metadata": {},
   "source": [
    "examine content...notice all of the .fastq.gz files are in separate subfolders"
   ]
  },
  {
   "cell_type": "code",
   "execution_count": 2,
   "id": "fd256c2b-b101-44c6-995a-48ce4aa965b4",
   "metadata": {},
   "outputs": [
    {
     "name": "stdout",
     "output_type": "stream",
     "text": [
      "ERR1424899\tERR1424900\tERR1424901\tERR1424902\tERR1424903\n"
     ]
    }
   ],
   "source": [
    "ls"
   ]
  },
  {
   "cell_type": "markdown",
   "id": "620dc584-ed6a-49b1-8353-a45a6594e670",
   "metadata": {},
   "source": [
    "move up one directory and create a new subdirectory to move all of the .fastq.gz files into one place. Then check that the directory was made with ls."
   ]
  },
  {
   "cell_type": "code",
   "execution_count": 3,
   "id": "1170022a-d1eb-4c11-8c57-71b427fdcea2",
   "metadata": {},
   "outputs": [],
   "source": [
    "cd .."
   ]
  },
  {
   "cell_type": "markdown",
   "id": "4233d3ba-b870-430d-85e5-3bca07c8099c",
   "metadata": {},
   "source": [
    "First, we need to make a copy of the original data before moving it"
   ]
  },
  {
   "cell_type": "code",
   "execution_count": 4,
   "id": "c5ea7906-e528-439e-a730-2ff22a5f57ac",
   "metadata": {},
   "outputs": [],
   "source": [
    "cp -R example_content example_content_copy"
   ]
  },
  {
   "cell_type": "code",
   "execution_count": 5,
   "id": "5ecd8fbc-eaf0-448a-b9e1-db134ee777cb",
   "metadata": {},
   "outputs": [],
   "source": [
    "mkdir all_data"
   ]
  },
  {
   "cell_type": "code",
   "execution_count": 6,
   "id": "0c97028d-5535-41cf-bfa8-8056d6d1faa2",
   "metadata": {},
   "outputs": [
    {
     "name": "stdout",
     "output_type": "stream",
     "text": [
      "Mapping_simple.ipynb\t\t\texample_content_copy\n",
      "Untitled.ipynb\t\t\t\treferences\n",
      "all_data\t\t\t\ttrimming_classification_basic.ipynb\n",
      "example_content\t\t\t\ttrimming_classification_moreqc.ipynb\n",
      "example_content_2\n"
     ]
    }
   ],
   "source": [
    "ls"
   ]
  },
  {
   "cell_type": "code",
   "execution_count": 7,
   "id": "54d0aba0-7dc2-40cb-895c-439ac630886c",
   "metadata": {},
   "outputs": [],
   "source": [
    "cd example_content"
   ]
  },
  {
   "cell_type": "markdown",
   "id": "d348f499-43d0-40cd-a1ca-c7c5c5afbc40",
   "metadata": {},
   "source": [
    "locate all files ending with .gz in all subfolders within the directory. The `*` character means that any other characters can preceed .gz. The `mindepth` command specifies to perform commands that follow at the subdirectory level (1=root). The empty `{}` allows all files meeting the criteria to be moved.  The `print` command allows user to monitor files"
   ]
  },
  {
   "cell_type": "code",
   "execution_count": 8,
   "id": "7f57eb59-1079-4cd1-9eb7-ce1066cf44cd",
   "metadata": {},
   "outputs": [
    {
     "name": "stdout",
     "output_type": "stream",
     "text": [
      "./ERR1424899/ERR1424899_1.fastq.gz\n",
      "./ERR1424899/ERR1424899_2.fastq.gz\n",
      "./ERR1424900/ERR1424900_1.fastq.gz\n",
      "./ERR1424900/ERR1424900_2.fastq.gz\n",
      "./ERR1424901/ERR1424901_1.fastq.gz\n",
      "./ERR1424901/ERR1424901_2.fastq.gz\n",
      "./ERR1424902/ERR1424902_1.fastq.gz\n",
      "./ERR1424902/ERR1424902_2.fastq.gz\n",
      "./ERR1424903/ERR1424903_1.fastq.gz\n",
      "./ERR1424903/ERR1424903_2.fastq.gz\n"
     ]
    }
   ],
   "source": [
    "find . -mindepth 2 -type f -name '*.gz' -print -exec mv {} ../all_data \\;"
   ]
  },
  {
   "cell_type": "code",
   "execution_count": 9,
   "id": "1613525f-eb1d-435b-a9f9-148a18328161",
   "metadata": {},
   "outputs": [],
   "source": [
    "cd ../all_data"
   ]
  },
  {
   "cell_type": "code",
   "execution_count": 10,
   "id": "632457b0-5e72-475f-a149-7c95d760b184",
   "metadata": {},
   "outputs": [
    {
     "name": "stdout",
     "output_type": "stream",
     "text": [
      "ERR1424899_1.fastq.gz\tERR1424901_1.fastq.gz\tERR1424903_1.fastq.gz\n",
      "ERR1424899_2.fastq.gz\tERR1424901_2.fastq.gz\tERR1424903_2.fastq.gz\n",
      "ERR1424900_1.fastq.gz\tERR1424902_1.fastq.gz\n",
      "ERR1424900_2.fastq.gz\tERR1424902_2.fastq.gz\n"
     ]
    }
   ],
   "source": [
    "ls"
   ]
  },
  {
   "cell_type": "code",
   "execution_count": 11,
   "id": "faa55d20-34f4-4142-b0f2-465b20f6787c",
   "metadata": {},
   "outputs": [],
   "source": [
    "rm -r ../example_content"
   ]
  },
  {
   "cell_type": "markdown",
   "id": "5653b9a4-a067-4f40-85b1-9b26ae3e6ea5",
   "metadata": {},
   "source": [
    "Define the path to the reference"
   ]
  },
  {
   "cell_type": "code",
   "execution_count": 3,
   "id": "75eb933a-abd5-4b9f-bad5-42e5b7e07691",
   "metadata": {},
   "outputs": [],
   "source": [
    "ref_path=\"references/genome_assemblies_genome_fasta_ecoli_K12_MG1655/GCF_000005845.2_ASM584v2_genomic.fna.gz\""
   ]
  },
  {
   "cell_type": "markdown",
   "id": "1c24aae5-47bd-45d2-bc3d-851bf3b6e861",
   "metadata": {},
   "source": [
    "create output directories"
   ]
  },
  {
   "cell_type": "code",
   "execution_count": 16,
   "id": "552f2ab3-43af-4758-a76b-2a27cfb2891c",
   "metadata": {},
   "outputs": [],
   "source": [
    "mkdir ../reports"
   ]
  },
  {
   "cell_type": "code",
   "execution_count": 17,
   "id": "06cb0b14-fa60-49a2-8ff0-848beb13212e",
   "metadata": {},
   "outputs": [],
   "source": [
    "mkdir ../bams"
   ]
  },
  {
   "cell_type": "code",
   "execution_count": 24,
   "id": "2b94971b-1227-4e9b-a670-7cbeabdff2a3",
   "metadata": {},
   "outputs": [],
   "source": [
    "mkdir ../indices #Specify the location to write the index/genome files, if you don't want it in the current working directory."
   ]
  },
  {
   "cell_type": "markdown",
   "id": "951666d7-1f61-47e8-8358-efafac1e8f4b",
   "metadata": {},
   "source": [
    "Let's run some of the most basic commands using bbtools to map our pairs of reads to the reference genome. Here, I am calling `bbmaps` , defining the reference genome with `ref`, inputting the forward and reverse reads of one sample as `in1` and `in2`, outputting the resulting sam or bam file (`outm`) and several text reports (coverage statistics, coverage histogram, base coverage). the argument `minid` defines what reads are acceptable to retain based on their alignment identity with the reference genome. By using `outm` instead of `out`, we output only mapped reads to the sam file. `out` will output mapped and unmapped reads, and `outu` will output only unmapped reads. By default, `bbmaps` sets the argument `ambiguous` to best. Meaning that reads will be mapped to the first best site. By default, the `kmer` length is always 13. bbmap will output sam files unless samtools is installed, in which case bam files can be output.\n",
    "\n",
    "There are several on-screen outputs. At the top, there are basic statistics about read pairing. Then, there are indivdual statistics for the forward and reverse reads. "
   ]
  },
  {
   "cell_type": "code",
   "execution_count": 4,
   "id": "2721db27-0c56-48a6-a15f-1690605c5da4",
   "metadata": {},
   "outputs": [
    {
     "name": "stdout",
     "output_type": "stream",
     "text": [
      "/usr/local/Cellar/bbtools/38.95/libexec//calcmem.sh: line 75: [: -v: unary operator expected\n",
      "java -ea -Xmx3200m -Xms3200m -cp /usr/local/Cellar/bbtools/38.95/libexec/current/ align2.BBMap build=1 overwrite=true fastareadlen=500 ref=../references/genome_assemblies_genome_fasta_ecoli_K12_MG1655/GCF_000005845.2_ASM584v2_genomic.fna.gz in1=ERR1424899_1.fastq.gz in2=ERR1424899_2.fastq.gz outm=../bams/ecoli_ERR1424899.bam minid=0.9 path=../indices covstats=../reports/ecoli_ERR1424899_stats.txt covhist=../reports/ecoli_ERR1424899_covhist.txt basecov=../reports/ecoli_ERR1424899_basecov.txt -Xmx3200m\n",
      "Executing align2.BBMap [build=1, overwrite=true, fastareadlen=500, ref=../references/genome_assemblies_genome_fasta_ecoli_K12_MG1655/GCF_000005845.2_ASM584v2_genomic.fna.gz, in1=ERR1424899_1.fastq.gz, in2=ERR1424899_2.fastq.gz, outm=../bams/ecoli_ERR1424899.bam, minid=0.9, path=../indices, covstats=../reports/ecoli_ERR1424899_stats.txt, covhist=../reports/ecoli_ERR1424899_covhist.txt, basecov=../reports/ecoli_ERR1424899_basecov.txt, -Xmx3200m]\n",
      "Version 38.95\n",
      "\n",
      "Retaining first best site only for ambiguous mappings.\n",
      "NOTE:\tIgnoring reference file because it already appears to have been processed.\n",
      "NOTE:\tIf you wish to regenerate the index, please manually delete ../indices/ref/genome/1/summary.txt\n",
      "Set genome to 1\n",
      "\n",
      "Loaded Reference:\t0.203 seconds.\n",
      "Loading index for chunk 1-1, build 1\n",
      "Generated Index:\t0.997 seconds.\n",
      "Analyzed Index:   \t3.603 seconds.\n",
      "Found samtools 1.4.1\n",
      "Started output stream:\t0.877 seconds.\n",
      "Cleared Memory:    \t0.190 seconds.\n",
      "Processing reads in paired-ended mode.\n",
      "Started read stream.\n",
      "Started 4 mapping threads.\n",
      "Detecting finished threads: 0, 1, 2, 3\n",
      "\n",
      "   ------------------   Results   ------------------   \n",
      "\n",
      "Genome:                \t1\n",
      "Key Length:            \t13\n",
      "Max Indel:             \t16000\n",
      "Minimum Score Ratio:  \t0.56\n",
      "Mapping Mode:         \tnormal\n",
      "Reads Used:           \t5416140\t(937014505 bases)\n",
      "\n",
      "Mapping:          \t121.416 seconds.\n",
      "Reads/sec:       \t44608.09\n",
      "kBases/sec:      \t7717.38\n",
      "\n",
      "\n",
      "Pairing data:   \tpct pairs\tnum pairs \tpct bases\t   num bases\n",
      "\n",
      "mated pairs:     \t  0.0804% \t     2176 \t  0.0746% \t      699438\n",
      "bad pairs:       \t  0.0004% \t       10 \t  0.0002% \t        2118\n",
      "insert size avg: \t  203.04\n",
      "\n",
      "\n",
      "Read 1 data:      \tpct reads\tnum reads \tpct bases\t   num bases\n",
      "\n",
      "mapped:          \t  0.0811% \t     2196 \t  0.0750% \t      353076\n",
      "unambiguous:     \t  0.0204% \t      553 \t  0.0176% \t       83083\n",
      "ambiguous:       \t  0.0607% \t     1643 \t  0.0573% \t      269993\n",
      "low-Q discards:  \t  0.0000% \t        0 \t  0.0000% \t           0\n",
      "\n",
      "perfect best site:\t  0.0005% \t       13 \t  0.0002% \t         895\n",
      "semiperfect site:\t  0.0005% \t       13 \t  0.0002% \t         895\n",
      "rescued:         \t  0.0051% \t      139\n",
      "\n",
      "Match Rate:      \t      NA \t       NA \t 82.6105% \t      302989\n",
      "Error Rate:      \t 85.3735% \t     2183 \t 17.3895% \t       63779\n",
      "Sub Rate:        \t 85.3735% \t     2183 \t 13.4567% \t       49355\n",
      "Del Rate:        \t 13.7661% \t      352 \t  3.7332% \t       13692\n",
      "Ins Rate:        \t 11.0285% \t      282 \t  0.1996% \t         732\n",
      "N Rate:          \t  0.0000% \t        0 \t  0.0000% \t           0\n",
      "\n",
      "\n",
      "Read 2 data:      \tpct reads\tnum reads \tpct bases\t   num bases\n",
      "\n",
      "mapped:          \t  0.0810% \t     2193 \t  0.0754% \t      351324\n",
      "unambiguous:     \t  0.0205% \t      555 \t  0.0179% \t       83543\n",
      "ambiguous:       \t  0.0605% \t     1638 \t  0.0575% \t      267781\n",
      "low-Q discards:  \t  0.0000% \t        0 \t  0.0000% \t           0\n",
      "\n",
      "perfect best site:\t  0.0004% \t       11 \t  0.0002% \t         745\n",
      "semiperfect site:\t  0.0004% \t       11 \t  0.0002% \t         745\n",
      "rescued:         \t  0.0102% \t      277\n",
      "\n",
      "Match Rate:      \t      NA \t       NA \t 79.4178% \t      300786\n",
      "Error Rate:      \t 83.5055% \t     2182 \t 20.5822% \t       77953\n",
      "Sub Rate:        \t 83.5055% \t     2182 \t 13.1426% \t       49776\n",
      "Del Rate:        \t 13.7007% \t      358 \t  7.2385% \t       27415\n",
      "Ins Rate:        \t 11.0601% \t      289 \t  0.2012% \t         762\n",
      "N Rate:          \t  0.0000% \t        0 \t  0.0000% \t           0\n",
      "\n",
      "Reads:                               \t5416140\n",
      "Mapped reads:                        \t4389\n",
      "Mapped bases:                        \t708789\n",
      "Ref scaffolds:                       \t1\n",
      "Ref bases:                           \t4641652\n",
      "\n",
      "Percent mapped:                      \t0.081\n",
      "Percent proper pairs:                \t0.080\n",
      "Average coverage:                    \t0.153\n",
      "Average coverage with deletions:     \t0.160\n",
      "Standard deviation:                    \t3.653\n",
      "Percent scaffolds with any coverage: \t100.00\n",
      "Percent of reference bases covered:  \t1.89\n",
      "\n",
      "Total time:     \t133.827 seconds.\n"
     ]
    }
   ],
   "source": [
    "bbmap.sh ref=../${ref_path} in1=ERR1424899_1.fastq.gz in2=ERR1424899_2.fastq.gz outm=../bams/ecoli_ERR1424899.bam minid=0.9 path=../indices covstats=../reports/ecoli_ERR1424899_stats.txt covhist=../reports/ecoli_ERR1424899_covhist.txt  basecov=../reports/ecoli_ERR1424899_basecov.txt -Xmx3200m"
   ]
  },
  {
   "cell_type": "markdown",
   "id": "1e537b3a-5b33-40bd-bb19-ea2fd7ddaca4",
   "metadata": {},
   "source": [
    "Let's take a look at some of the reports, starting with the basic statistics"
   ]
  },
  {
   "cell_type": "code",
   "execution_count": 27,
   "id": "3d9acb7c-c0e1-41a5-98c9-ccf30e872c5e",
   "metadata": {},
   "outputs": [
    {
     "name": "stdout",
     "output_type": "stream",
     "text": [
      "#ID\tAvg_fold\tLength\tRef_GC\tCovered_percent\tCovered_bases\tPlus_reads\tMinus_reads\tRead_GC\tMedian_fold\tStd_Dev\n",
      "NC_000913.3 Escherichia coli str. K-12 substr. MG1655, complete genome\t0.1603\t4641652\t0.5079\t1.8876\t87617\t2195\t2194\t0.5130\t0\t3.65\n"
     ]
    }
   ],
   "source": [
    "cat ../reports/ecoli_ERR1424899_stats.txt"
   ]
  },
  {
   "cell_type": "markdown",
   "id": "29aebd3a-2a02-4e78-8600-940091dd66fd",
   "metadata": {},
   "source": [
    "Above is the basic statistics report. This includes the read ID (`ID`), the average coverage depth (`Avg_fold`), `Length` is the length of the reference genome, `Ref_GC` is the GC content of the reference genome, `Covered percent` is the percent of reference bases covered, `Plus_reads` and `Minus_reads` refer to the read-scoring algorithm. In a read, each base matching the reference genome is scored +100 points, the first mismatch is scored -127 points, and consecutive mismatching bases are scored negative points but less and less and the length of mismatching bases increases. \n",
    "\n",
    "As a reminder, the coverage of a genome is calculated as `N x L/G` Where `G` is the length of the original genome, `N` is the number of reads, and `L` is the average read length."
   ]
  },
  {
   "cell_type": "markdown",
   "id": "c3b8152d-5895-45bb-8e4c-028163292f79",
   "metadata": {},
   "source": [
    "Now, the first bit of the coverage histogram report:"
   ]
  },
  {
   "cell_type": "code",
   "execution_count": 3,
   "id": "6618531e-9f12-44ee-b1a5-145824175488",
   "metadata": {},
   "outputs": [
    {
     "name": "stdout",
     "output_type": "stream",
     "text": [
      "#Coverage\tnumBases\n",
      "0\t4554035\n",
      "1\t35865\n",
      "2\t25433\n",
      "3\t3434\n",
      "4\t5019\n",
      "5\t1948\n",
      "6\t2427\n",
      "7\t989\n",
      "8\t840\n"
     ]
    }
   ],
   "source": [
    "head ../reports/ecoli_ERR1424899_covhist.txt"
   ]
  },
  {
   "cell_type": "markdown",
   "id": "5b96a610-f85c-456c-ab54-e42822a196ad",
   "metadata": {},
   "source": [
    "This report is convenient for plotting. "
   ]
  },
  {
   "cell_type": "markdown",
   "id": "19bbc807-1660-46af-8873-dc9adf2dfd25",
   "metadata": {},
   "source": [
    "Second, let's look at a bit of the base coverage report. Warning, this report type is VERY large."
   ]
  },
  {
   "cell_type": "code",
   "execution_count": 4,
   "id": "ef99e83c-8b23-4f0e-9361-c684d03fc2df",
   "metadata": {},
   "outputs": [
    {
     "name": "stdout",
     "output_type": "stream",
     "text": [
      "#RefName\tPos\tCoverage\n",
      "NC_000913.3 Escherichia coli str. K-12 substr. MG1655, complete genome\t0\t0\n",
      "NC_000913.3 Escherichia coli str. K-12 substr. MG1655, complete genome\t1\t0\n",
      "NC_000913.3 Escherichia coli str. K-12 substr. MG1655, complete genome\t2\t0\n",
      "NC_000913.3 Escherichia coli str. K-12 substr. MG1655, complete genome\t3\t0\n",
      "NC_000913.3 Escherichia coli str. K-12 substr. MG1655, complete genome\t4\t0\n",
      "NC_000913.3 Escherichia coli str. K-12 substr. MG1655, complete genome\t5\t0\n",
      "NC_000913.3 Escherichia coli str. K-12 substr. MG1655, complete genome\t6\t0\n",
      "NC_000913.3 Escherichia coli str. K-12 substr. MG1655, complete genome\t7\t0\n",
      "NC_000913.3 Escherichia coli str. K-12 substr. MG1655, complete genome\t8\t0\n"
     ]
    }
   ],
   "source": [
    "head ../reports/ecoli_ERR1424899_basecov.txt"
   ]
  },
  {
   "cell_type": "markdown",
   "id": "30d042d8-75d0-45d9-85a0-6c313e15dbb9",
   "metadata": {},
   "source": [
    "This report goes through coverage position by position in the reference genome."
   ]
  },
  {
   "cell_type": "markdown",
   "id": "1f48c8fe-452f-4e02-9729-00fdcc3d90c7",
   "metadata": {},
   "source": [
    "Finally, let's look at the alignment file. By default, if samtools is installed, bbmap will automatically output the much smaller binary version (a `bam`, instead of a `sam`). This is desirable to save storgae space. The `bam` file is only interpretable by a computer, as shown below"
   ]
  },
  {
   "cell_type": "code",
   "execution_count": 3,
   "id": "170069f0-5c0c-422c-a980-24416fb7381a",
   "metadata": {},
   "outputs": [
    {
     "name": "stdout",
     "output_type": "stream",
     "text": [
      "\u001f\u0004\u0000\u0000\u0000\u0000\u0000�\u0006\u0000BC\u0002\u0000�\u0001���N�0\u0010�\u0003��)�\u0000��n��H�J\u000b",
      "tW�����,'��F�Sl' ^�\u0017�I*Xi%N{�<��o�3c�/�'�O=o������\u0014\u0007��.n����b4�<��4N\u0017�\u0010\u0012�\t��k��A�|/\u0005��R\"c5F�sʐi���^ҋ0<sru(�\u0002ځ�+�o�8��F�����*�����ߧG�U0��(�\u0017��h\u0005:\u0007��T�\u0013FH�Yf�D)w��>\n",
      "���櫿R�_���yw\u00058\u0004�E�������2N��O��W�Ϣ8��P\u0012�E�Ћ�Z��\u000e��\u0015�\u000f���?�S����v�^\u001a�-}dz>\u0013���������\u0017\u001b�x��t��| Ͼ�x\u001f\u0000��\u0012�\u0002\u0000\u0000\u001f\u0004\u0000\u0000\u0000\u0000\u0000�\u0006\u0000BC\u0002\u0000�N��}�4IZ\u001f�3��u��;�LfgwgOTgVfo\u001d",
      "��L��{��VQҖ->�`�D�� \u0000tB6�\u0003l������\u001c",
      "�am/\u0006l$-h�$���Z��a\u0007�u\u000e\u0004\u0011�\u001d",
      "��\u000f9�1�����k\u0014���SUY�U��=�q�\u0001��NMgWU�<����y2�m������Z\u001f�}���>��G�P�?��߄����Oϗ��77_vyv3�ꓳ�듇�Ӈ'����u\u001f�ӧ\u000f��\u0013�qqqq\t�__�<��\u0005����O�\u0014g��\u00153\u000e�_��/5^�`�����_o���V����O��\u001f��������-�i^���9~��*N\u0018�\u0002�G)�~D\u0014\u0017�\u000fSB��%���`a&�D� �*\n",
      "L����-���? \u0000�V^�Z��\u0005\"^�4��g�\"i拔��c�O�L2%�L�(�\"I�G�(\u0014\u0000�P\u0005�#�b�\"LF,\u0001�\u0011\n",
      "�gW�[ ���������\"��O��gݠ��\u0006*^o���[�Ҡ��BG\u0013]^����h��{�UGӦ�٫���w�י�gV��fϺ�~���|�D�\u0011p�PEQD�/\u0015#*΄\f",
      "B�z~�\u0014��\u000frङH�H�,`4\u0011\\�4V��,�C\u00152\tB/\u000e\"\u0019y��I���Pi\u001a\u00072�T�B���f�J\"�P/�d��\tU\u0001K�\u0017�Q\"}�s兂�G���\u001f��o}�\u000flX[Ր��q3��Q3W�g�)�o���嬋3�t:\u0015�\u0003>\u0018:��8z�p=wzt�rgz��ިs���;�q�r��r\u001e",
      "�[�\u0012\\9\u0012X���j5����X��W�\u000b",
      "\u0016Z�7�\n",
      "�;���R9���\u001c",
      "<�w��[���|?�<�gLH�\u0001�ϘJT�&I\"y\n",
      "8��ŤG����H��4R�'d&\u0013\u0015e\\�PDRf�eRQE� \u0007�\u0001�R婌KߋiHD�P_(���2�\u0003�@x�'{����n��כ��\u0007��xp��O�������\u0006����~��y�ϧ�ǣ�N��A{��FS!\u0019=�a_k��^�\u0013=\u001fk\tP���\u001c",
      "�z\n",
      "����T!\u0007�\u000f\u001c",
      "(#����Q\u0010d��\"\"��)��\f",
      "�&�x\f",
      "\u0012�-���;\u0010�\u0001\u0010尿�\"�S�ߧG�&\f",
      "Q�P�e]ӻ3Q�[ J~\u001d",
      "��;I/�S\u0015F!\u0013�\u0017�A\u0012��\u00131����8��:\u0004�\\i�zK�''/\u0010�\u000b",
      "��J\u0015��O\u0015��k}���\u0006-0�ssu�\u0005a`������I���苍וn�Ӫ\u001bo\n",
      "�\u0007<��,c2\f",
      "�$�0�*�1HxISЄa}�f)��@=r���Ro\u0018VՏ�\u001d",
      "�&�m�q�\u001c",
      "����(1�d��\n",
      "c\u0019���D@C�J\u0005)hk�Dq�� �4kH�(\u0019+\u0010>\u0019\n",
      "���\u0012�F�7(ì��\u0015�?j!������[���������N}��U�Z��?k=\u001f�i\u0016G�\u000fH$�f��D��a \u0003J\"T\u0002y\u0004f1O�\u0014X�ψ�(,��'��}\u0006V����\u0001\u000b",
      "\u000e��E>,�,�\u0007�\u0004�i\u0012�ʊ�(��\u0011\u0011Ŕ���r<��G��\u000e��;8���\u0007�\u000f?ɠ�z����\u000e\u000f;m�nw\u001c",
      "I:�����\f",
      "�G��DL'C!u�Ѯdl!G\u000fz�\u001f������l�弯F�\u0012�ꂲ�\u000e\u001d",
      "�&�P��d⪉��v\u0001�r�N\u001d",
      "g�����=�=�Biu<�N�Hv�|ҝ�TWv�\u0018��@j6���UW25�\u000fqU�y�����@���z\u0000����}9��2�}�a1pX���.�]�\n"
     ]
    }
   ],
   "source": [
    "head ../bams/ecoli_ERR1424899.bam"
   ]
  },
  {
   "cell_type": "markdown",
   "id": "47673ffc-f9d7-423b-a798-39b9ccff25a3",
   "metadata": {},
   "source": [
    "To view the file in `sam` format, we can call on `samtools`. Here, I am using the `view` command and using `>` to specify input and output locations and formats. The `h` flag indicates that the `sam` file will have a header. "
   ]
  },
  {
   "cell_type": "code",
   "execution_count": 2,
   "id": "ee2fd4ec-6f51-4a0d-9382-8342ee3e1dd5",
   "metadata": {},
   "outputs": [],
   "source": [
    "samtools view -h ../bams/ecoli_ERR1424899.bam > ../bams/ecoli_ERR1424899.sam"
   ]
  },
  {
   "cell_type": "markdown",
   "id": "94229c9d-2450-4ed4-8b68-8bfc6a6abdaa",
   "metadata": {},
   "source": [
    "Let's take a look at the `sam` file, which provides us with useful information about the alignment that we can read. The @HD flag indicates the file-level metadata header line. The `@SQ` flag indicates the reference sequence dictionary. The `@PG` flag indicates the program record. Within @PG, `ID` indicates the program record identifier and `PN` indicates the program used (in this case, both are BBMap) and `VN` indicates the version of the program used. `CL` indicates the command used. Thereafter is the alignment information, which has a particular standardized format. This can be found on the [samtools github](https://samtools.github.io/hts-specs/SAMv1.pdf). I will only bring attention to a few things.\n",
    "\n",
    "First, note the fifth column in any alignment, which indicates the `MAPQ`, or the probability that the mapping position is wrong. A value of 255 indicates that the MAPQ is not available. A \"good\" MAPQ really depends on the application. But, to put it into perspective, a score of 10 means that there is a 90% probability that the mapping position is correct, a score of 3 corresponds to 50%, and a score of 30 corresponds to 99.9%. Careful though! The \"goodness\" of MAPQ scores can vary between programs (see [this useful review](https://sequencing.qcfail.com/articles/mapq-values-are-really-useful-but-their-implementation-is-a-mess/))\n",
    "\n",
    "Also, note the sixth column in any alignment, the CIGAR (Compact Idiosyncratic Gapped Alignment Report) string. These contain a bunch of numbers and equal signs. In `bbmap`, the `=` indicates a matching base, an `x` indicates a substitution, and an `M` \n",
    " indicates a degenerate base. "
   ]
  },
  {
   "cell_type": "code",
   "execution_count": 3,
   "id": "decdc5eb-457f-426c-92fc-63c6baaf576f",
   "metadata": {},
   "outputs": [
    {
     "name": "stdout",
     "output_type": "stream",
     "text": [
      "@HD\tVN:1.4\tSO:unsorted\n",
      "@SQ\tSN:NC_000913.3 Escherichia coli str. K-12 substr. MG1655, complete genome\tLN:4641652\n",
      "@PG\tID:BBMap\tPN:BBMap\tVN:38.95\tCL:java -ea -Xmx3200m -Xms3200m align2.BBMap build=1 overwrite=true fastareadlen=500 ref=../references/genome_assemblies_genome_fasta_ecoli_K12_MG1655/GCF_000005845.2_ASM584v2_genomic.fna.gz in1=ERR1424899_1.fastq.gz in2=ERR1424899_2.fastq.gz outm=../bams/ecoli_ERR1424899.bam minid=0.9 path=../indices covstats=../reports/ecoli_ERR1424899_stats.txt covhist=../reports/ecoli_ERR1424899_covhist.txt basecov=../reports/ecoli_ERR1424899_basecov.txt -Xmx3200m\n",
      "ERR1424899.639 M03580:21:000000000-APRY1:1:1101:15556:2188\t99\tNC_000913.3 Escherichia coli str. K-12 substr. MG1655, complete genome\t226988\t2\t2X6=1X18=1X6=1X9=1X2=3X8=1X2=3X6=1X2=1X21=1X6=1X11=1X2=1X14=1X6=1X37=2X1=1X1=1X7=1X4=1X11=1X2=1X1=1X1=1X2=2X1=\t=\t226991\t223\tGAGCTGGACGTATCAGAAGTGCGAATGTTGACATGAGTAACGATCAAAGAGGTGAAAAACCTCTTCGCCGAAAAACCAAGGGTTCCTGTCCAACGCTAATCGTGGCAGGGTGAGGCGGCCCCTAAGGCGAGGGCGAAAGCCGTAGTCGATGGGAAACAGGTTAATATTCCTGTACTTTTTATAACTGCGATGGGGTGACGGAGAAGGTTAGGCTAGCACG\tCCCCCGGGGGGGGGGGGGGGFGGEGGGGGGGGGGGGGGGGGGGGGGGGGGGGGGGGGGGGGGGGGGGGGGGGGGGGGGGGGGGGGGGGGGGGGGGGGGGGGGGGGGGGGGGGGGGGGGGGGGGGGGGGGGGGGGGGGGGGGGGGGGGGGGGGGGGGGGGGGGGGGG@CGGGGGGGGGGGGGGGGGGGGGGGGGGGGGGGGGEEGGGGGGGGGGGGGGGGG\tXT:A:R\tNM:i:33\tAM:i:2\n",
      "ERR1424899.639 M03580:21:000000000-APRY1:1:1101:15556:2188\t147\tNC_000913.3 Escherichia coli str. K-12 substr. MG1655, complete genome\t226991\t2\t5=1X18=1X6=1X9=1X2=3X8=1X2=3X6=1X2=1X21=1X6=1X11=1X2=1X14=1X6=1X26=1X10=2X1=1X1=1X7=1X4=1X11=1X2=1X1=1X1=1X2=2X4=\t=\t226988\t-223\tCTGGACGTATCAGAAGTGCGAATGTTGACATGAGTAACGATCAAAGAGGTGAAAAACCTCTTCGCCGAAAAACCAAGGGTTCCTGTCCAACGCTAATCGTGGCAGGGTGAGGCGGCCCCTAAGGCGAGGGCGAAAGCCGTAGTCGATGGGAAACAGGTTAATACTCCTGTACTTTTTATAACTGCGATGGGGTGACGGAGAAGGTTAGGCTAGCACGGCG\tFFDFEFFEGFFFFFGFFGFGGFGGGFGFFFFGCDFGFGGGGGGGFGGGGGGGGGGFGGGGGGGGGGGGGGGGGGGGGGGGGGGGGGGGGGGGGGGGGGGGGGGGGGGGGGGGGGGGGGGGGGGGGGGGGGGGGGGGGGGGGGGGGGGGGGGGGGGGGGGGGFE,GGGGGGGGGGGGGGGGGGGGGGGGGGGGGGGGGGGGGGGGGGGGGGGGGGGCCCCC\tXT:A:R\tNM:i:32\tAM:i:2\n",
      "ERR1424899.2378 M03580:21:000000000-APRY1:1:1101:11057:2695\t99\tNC_000913.3 Escherichia coli str. K-12 substr. MG1655, complete genome\t2729741\t2\t1X28=1X4=1X14=1X5=1X7=1X11=1X5=1X41=3X1=1X3=1X1=2X1=1X1=2X2=5X6=3X1=1X2=1X2=2X1=1X3=1X1=3X8=1X15=2X27=1X3=1X11=1X9=1X7=1X4=2X8=1X3=1X1=1X9=2X2=\t=\t2729854\t378\tTCCATGGTGTGACGGGCGGTGTGTACAAGACCCGAGAACGTATTCACCGCGGCATGCTGATCCGCGATTACTAGCAATTCCAACTTCATGGAGTCGAGTTGCAGACTCCAATCCGGACTACGAGAGAGTTTCTAGGATTAGCACCACCTCGCGGCTTAGCGTCCGTCTGTCTCTCCCATTGTATCACGTGTGTAGCCCTACTCGTAAGGGCCATGATGACTTGACGTCGTCCTCACCTTCCTCCGGTTTATCACCGGCAGTCCCCTTATAGTTCCCGACCGAATCGCTGGCAAATAA\tCCCCCGGGGGGGGGGGGGGGGGGGGGGGGGGGGGGGGGGGGGGGGGGGGGGGGGGGGGGGGGGGGGGGGGGGGGGGGGGGGGGGGGGGGGGGGGGGGGGGGGGGGGGGGGGGGGGGGGGGGGGGGGGGGGGGGGGFGGGGGGGGGGGGFGGGGGGGGGGGGGGGGFFGGGGGGGGGGGGGGGGGGFGGGGGGGGDGGGGGGGGGGGGGGGGGGGF?FCGGGG?DCA?E@FGGFGGFGFGGFFFGFGFGFFFGFFFD3>B).978@022@F=@9FA@437D9@>04)24:)-.5()6<\tXT:A:R\tNM:i:50\tAM:i:2\n",
      "ERR1424899.2378 M03580:21:000000000-APRY1:1:1101:11057:2695\t147\tNC_000913.3 Escherichia coli str. K-12 substr. MG1655, complete genome\t2729854\t2\t6=2X1=4X1=1X3=1X1=2X1=1X1=2X2=5X2=1X3=3X1=1X2=1X2=2X1=1X3=1X1=3X8=1X15=2X27=1X3=1X11=1X9=1X7=1X4=2X8=1X3=1X1=1X9=2X4=1X17=4X8=2X5=1X4=1X32=1X2=1X\t=\t2729741\t-378\tCGGACTCGGTGAGAGTTTCTAGGATTAGCACCACCTGGCGGCTTAGCGTCCGTCTGTCTCTCCCATTGTATCACGTGTGTAGCCCTACTCGTAAGGGCCATGATGACTTGACGTCGTCCTCACCTTCCTCCGGTTTATCACCGGCAGTCCCCTTATAGTTCCCGACCGAATCGCTGGCAAATAAGGGTAAGGGTTGCGCTCGTTATCCGACTTAACGGAACATCTCACGACACGAGCTGACGACAGCCATGCAGCACCTGTATCT\t4).-,,(044?6<.7A<7-:66=-61--)47),8.-()99(69>0;:.)(./(*(5:>BC53;6B86FFCA?FGD=FA<FCFCGFGDDGGGFGF>GGFCGCFGGGFDE>@;@8GGGGGGGGGGFGGGGGGGGGGGGFGGEECFCGGGGEGGFGGGGGDDFGEFDGGGGGGFGGGGGGGGGFAGGFFGGGGGGGGGGGGGGGGGGGGGGGGGGGGGGGGGGGGGGGGGGGFGGGGGGGGGGGGGGGGGGGGGGGGFGGGGGCCCCC\tXT:A:R\tNM:i:57\tAM:i:2\n",
      "ERR1424899.3525 M03580:21:000000000-APRY1:1:1101:22975:3585\t99\tNC_000913.3 Escherichia coli str. K-12 substr. MG1655, complete genome\t2947364\t15\t4X4=1X1=1X3=2X2=3X2=1X14=1X35=1X\t=\t2947367\t78\tAATCTATACTTCGCCCCCTTTGATGCGGGGTGGAGCAGTCTGGTAGCTCGTCGGGCTCATAACCCGAAGGTCGTA\tCCCCCGGGGGGGGGGGGGGGGGGGGGGGGGGGGGGGGGGGGGGGGGGGGGGGGGGGGGGGGGGGGGGGDGGGGGG\tNM:i:14\tAM:i:15\n",
      "ERR1424899.3525 M03580:21:000000000-APRY1:1:1101:22975:3585\t147\tNC_000913.3 Escherichia coli str. K-12 substr. MG1655, complete genome\t2947367\t19\t1X4=1X1=1X3=2X2=3X2=1X14=1X35=1X3=\t=\t2947364\t-78\tCTATACTTCGCCCCCTTTGATGCGGGGTGGAGCAGTCTGGTAGCTCGTCGGGCTCATAACCCGAAGGTCGTAGGT\tGGGGGGGGGGGGGGGGGFFCEGGGGGGGGGFGFGGGGGGGGGGGGGGGGGGGGGGGGGGGGGGGGGGGGGCCCCC\tNM:i:11\tAM:i:19\n",
      "ERR1424899.3973 M03580:21:000000000-APRY1:1:1101:20006:3770\t83\tNC_000913.3 Escherichia coli str. K-12 substr. MG1655, complete genome\t2730536\t2\t8=1X10=2X1=1X7=2X1=1X6=1X27=2X6=1X2=1X4=1X24=1X10=1X10=1X5=1X5=1X1=25D1X2=1X5=1X7=2X1=\t=\t2730535\t-191\tTTGAGCCCCGGGATTTCACCCCCGACTTAAATATCCGCCTACGTGCGCTTTACGCCCAGTAATTCCGAACAACGCTAGCCCCCTTCGTATTACCGCGGCTGCTGGCACGAAGTTAGCCGGGGCTTCTTCTGTGGGTACCGTCATTATCGTCCCCACTGAAAGAGC\tGGGEGGGGGGGGGGGGGGGGGGGGGGFDGGGEFGGGGGGGGGGGGGGGGGGGGGGGGGGGGFGGGGGGFDFGGGGGGGGGGGGGFGGGGGEGGGGEGGGGGGGGGGGGGGGGGGGGGGGGGGGGGGGGGGGGGGGGGGGGGGGGGGEDGGGGGGGGGGGGCCCCC\tXT:A:R\tNM:i:48\tAM:i:2\n"
     ]
    }
   ],
   "source": [
    "head ../bams/ecoli_ERR1424899.sam"
   ]
  },
  {
   "cell_type": "code",
   "execution_count": null,
   "id": "ca6be587-ceeb-4551-90af-e8e27040a651",
   "metadata": {},
   "outputs": [],
   "source": []
  }
 ],
 "metadata": {
  "kernelspec": {
   "display_name": "Bash",
   "language": "bash",
   "name": "bash"
  },
  "language_info": {
   "codemirror_mode": "shell",
   "file_extension": ".sh",
   "mimetype": "text/x-sh",
   "name": "bash"
  }
 },
 "nbformat": 4,
 "nbformat_minor": 5
}
