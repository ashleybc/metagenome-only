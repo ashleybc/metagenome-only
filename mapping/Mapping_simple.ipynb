{
 "cells": [
  {
   "cell_type": "markdown",
   "id": "7dc85e06-566f-4453-8c53-1df5e54b2d92",
   "metadata": {},
   "source": [
    "This code will show how to map reads of paired-end metagenomes to a reference genome using `bbmap` in BASH. \n",
    "\n",
    "Sample data from ENA:\n",
    "\n",
    "Arctic Ocean metagenomes sampled aboard CGC Healy during the 2015 GEOTRACES Arctic research cruise Secondary Study Accession:ERP015773 Study Title:Arctic Ocean metagenomes from HLY1502 Center Name:UNIVERSITY OF ALASKA FAIRBANKS Study Name:Arctic Ocean metagenomes ENA-FIRST-PUBLIC:2016-05-27 ENA-LAST-UPDATE:2016-05-25\n",
    "\n",
    "Can be found at: https://www.ebi.ac.uk/ena/browser/view/PRJEB14154?show=reads\n",
    "\n",
    "I have used the first 5 pairs of Generated FASTQ files\n",
    "\n",
    "For the sake of brevity, I will use just one reference genome for mapping in this exercise, [E.coli K-12 substr. MG1655](https://www.ncbi.nlm.nih.gov/assembly/GCF_000005845.2). Other reference genomes can be found at https://www.ncbi.nlm.nih.gov/refseq/about/prokaryotes/\n",
    "\n",
    "move into content folder:"
   ]
  },
  {
   "cell_type": "code",
   "execution_count": 1,
   "id": "65473f9d-5e68-47e3-a387-3f98fbdddc78",
   "metadata": {},
   "outputs": [],
   "source": [
    "cd example_content"
   ]
  },
  {
   "cell_type": "markdown",
   "id": "53271263-d0e2-4c03-9ae9-89775599cee2",
   "metadata": {},
   "source": [
    "examine content...notice all of the .fastq.gz files are in separate subfolders"
   ]
  },
  {
   "cell_type": "code",
   "execution_count": 2,
   "id": "fd256c2b-b101-44c6-995a-48ce4aa965b4",
   "metadata": {},
   "outputs": [
    {
     "name": "stdout",
     "output_type": "stream",
     "text": [
      "ERR1424899\tERR1424900\tERR1424901\tERR1424902\tERR1424903\n"
     ]
    }
   ],
   "source": [
    "ls"
   ]
  },
  {
   "cell_type": "markdown",
   "id": "620dc584-ed6a-49b1-8353-a45a6594e670",
   "metadata": {},
   "source": [
    "move up one directory and create a new subdirectory to move all of the .fastq.gz files into one place. Then check that the directory was made with ls."
   ]
  },
  {
   "cell_type": "code",
   "execution_count": 3,
   "id": "1170022a-d1eb-4c11-8c57-71b427fdcea2",
   "metadata": {},
   "outputs": [],
   "source": [
    "cd .."
   ]
  },
  {
   "cell_type": "markdown",
   "id": "4233d3ba-b870-430d-85e5-3bca07c8099c",
   "metadata": {},
   "source": [
    "First, we need to make a copy of the original data before moving it"
   ]
  },
  {
   "cell_type": "code",
   "execution_count": 4,
   "id": "c5ea7906-e528-439e-a730-2ff22a5f57ac",
   "metadata": {},
   "outputs": [],
   "source": [
    "cp -R example_content example_content_copy"
   ]
  },
  {
   "cell_type": "code",
   "execution_count": 5,
   "id": "5ecd8fbc-eaf0-448a-b9e1-db134ee777cb",
   "metadata": {},
   "outputs": [],
   "source": [
    "mkdir all_data"
   ]
  },
  {
   "cell_type": "code",
   "execution_count": 6,
   "id": "0c97028d-5535-41cf-bfa8-8056d6d1faa2",
   "metadata": {},
   "outputs": [
    {
     "name": "stdout",
     "output_type": "stream",
     "text": [
      "Mapping_simple.ipynb\t\t\texample_content_copy\n",
      "Untitled.ipynb\t\t\t\treferences\n",
      "all_data\t\t\t\ttrimming_classification_basic.ipynb\n",
      "example_content\t\t\t\ttrimming_classification_moreqc.ipynb\n",
      "example_content_2\n"
     ]
    }
   ],
   "source": [
    "ls"
   ]
  },
  {
   "cell_type": "code",
   "execution_count": 7,
   "id": "54d0aba0-7dc2-40cb-895c-439ac630886c",
   "metadata": {},
   "outputs": [],
   "source": [
    "cd example_content"
   ]
  },
  {
   "cell_type": "markdown",
   "id": "d348f499-43d0-40cd-a1ca-c7c5c5afbc40",
   "metadata": {},
   "source": [
    "locate all files ending with .gz in all subfolders within the directory. The `*` character means that any other characters can preceed .gz. The `mindepth` command specifies to perform commands that follow at the subdirectory level (1=root). The empty `{}` allows all files meeting the criteria to be moved.  The `print` command allows user to monitor files"
   ]
  },
  {
   "cell_type": "code",
   "execution_count": 8,
   "id": "7f57eb59-1079-4cd1-9eb7-ce1066cf44cd",
   "metadata": {},
   "outputs": [
    {
     "name": "stdout",
     "output_type": "stream",
     "text": [
      "./ERR1424899/ERR1424899_1.fastq.gz\n",
      "./ERR1424899/ERR1424899_2.fastq.gz\n",
      "./ERR1424900/ERR1424900_1.fastq.gz\n",
      "./ERR1424900/ERR1424900_2.fastq.gz\n",
      "./ERR1424901/ERR1424901_1.fastq.gz\n",
      "./ERR1424901/ERR1424901_2.fastq.gz\n",
      "./ERR1424902/ERR1424902_1.fastq.gz\n",
      "./ERR1424902/ERR1424902_2.fastq.gz\n",
      "./ERR1424903/ERR1424903_1.fastq.gz\n",
      "./ERR1424903/ERR1424903_2.fastq.gz\n"
     ]
    }
   ],
   "source": [
    "find . -mindepth 2 -type f -name '*.gz' -print -exec mv {} ../all_data \\;"
   ]
  },
  {
   "cell_type": "code",
   "execution_count": 9,
   "id": "1613525f-eb1d-435b-a9f9-148a18328161",
   "metadata": {},
   "outputs": [],
   "source": [
    "cd ../all_data"
   ]
  },
  {
   "cell_type": "code",
   "execution_count": 10,
   "id": "632457b0-5e72-475f-a149-7c95d760b184",
   "metadata": {},
   "outputs": [
    {
     "name": "stdout",
     "output_type": "stream",
     "text": [
      "ERR1424899_1.fastq.gz\tERR1424901_1.fastq.gz\tERR1424903_1.fastq.gz\n",
      "ERR1424899_2.fastq.gz\tERR1424901_2.fastq.gz\tERR1424903_2.fastq.gz\n",
      "ERR1424900_1.fastq.gz\tERR1424902_1.fastq.gz\n",
      "ERR1424900_2.fastq.gz\tERR1424902_2.fastq.gz\n"
     ]
    }
   ],
   "source": [
    "ls"
   ]
  },
  {
   "cell_type": "code",
   "execution_count": 11,
   "id": "faa55d20-34f4-4142-b0f2-465b20f6787c",
   "metadata": {},
   "outputs": [],
   "source": [
    "rm -r ../example_content"
   ]
  },
  {
   "cell_type": "markdown",
   "id": "5653b9a4-a067-4f40-85b1-9b26ae3e6ea5",
   "metadata": {},
   "source": [
    "Define the path to the reference"
   ]
  },
  {
   "cell_type": "code",
   "execution_count": 13,
   "id": "75eb933a-abd5-4b9f-bad5-42e5b7e07691",
   "metadata": {},
   "outputs": [],
   "source": [
    "ref_path=\"references/genome_assemblies_genome_fasta_ecoli_K12_MG1655/GCF_000005845.2_ASM584v2_genomic.fna.gz\""
   ]
  },
  {
   "cell_type": "markdown",
   "id": "1c24aae5-47bd-45d2-bc3d-851bf3b6e861",
   "metadata": {},
   "source": [
    "create output directories"
   ]
  },
  {
   "cell_type": "code",
   "execution_count": 16,
   "id": "552f2ab3-43af-4758-a76b-2a27cfb2891c",
   "metadata": {},
   "outputs": [],
   "source": [
    "mkdir ../reports"
   ]
  },
  {
   "cell_type": "code",
   "execution_count": 17,
   "id": "06cb0b14-fa60-49a2-8ff0-848beb13212e",
   "metadata": {},
   "outputs": [],
   "source": [
    "mkdir ../bams"
   ]
  },
  {
   "cell_type": "code",
   "execution_count": 24,
   "id": "2b94971b-1227-4e9b-a670-7cbeabdff2a3",
   "metadata": {},
   "outputs": [],
   "source": [
    "mkdir ../indices #Specify the location to write the index/genome files, if you don't want it in the current working directory."
   ]
  },
  {
   "cell_type": "markdown",
   "id": "951666d7-1f61-47e8-8358-efafac1e8f4b",
   "metadata": {},
   "source": [
    "Let's run some of the most basic commands using bbtools to map our pair of reads to the reference genome. "
   ]
  },
  {
   "cell_type": "code",
   "execution_count": 25,
   "id": "2721db27-0c56-48a6-a15f-1690605c5da4",
   "metadata": {},
   "outputs": [
    {
     "name": "stdout",
     "output_type": "stream",
     "text": [
      "/usr/local/Cellar/bbtools/38.95/libexec//calcmem.sh: line 75: [: -v: unary operator expected\n",
      "java -ea -Xmx3200m -Xms3200m -cp /usr/local/Cellar/bbtools/38.95/libexec/current/ align2.BBMap build=1 overwrite=true fastareadlen=500 ref=../references/genome_assemblies_genome_fasta_ecoli_K12_MG1655/GCF_000005845.2_ASM584v2_genomic.fna.gz in1=ERR1424899_1.fastq.gz in2=ERR1424899_2.fastq.gz outm=../bams/ecoli_ERR1424899.bam minid=0.9 path=../indices covstats=../reports/ecoli_ERR1424899_stats.txt covhist=../reports/ecoli_ERR1424899_covhist.txt basecov=../reports/ecoli_ERR1424899_basecov.txt -Xmx3200m\n",
      "Executing align2.BBMap [build=1, overwrite=true, fastareadlen=500, ref=../references/genome_assemblies_genome_fasta_ecoli_K12_MG1655/GCF_000005845.2_ASM584v2_genomic.fna.gz, in1=ERR1424899_1.fastq.gz, in2=ERR1424899_2.fastq.gz, outm=../bams/ecoli_ERR1424899.bam, minid=0.9, path=../indices, covstats=../reports/ecoli_ERR1424899_stats.txt, covhist=../reports/ecoli_ERR1424899_covhist.txt, basecov=../reports/ecoli_ERR1424899_basecov.txt, -Xmx3200m]\n",
      "Version 38.95\n",
      "\n",
      "Retaining first best site only for ambiguous mappings.\n",
      "Writing reference.\n",
      "Executing dna.FastaToChromArrays2 [../references/genome_assemblies_genome_fasta_ecoli_K12_MG1655/GCF_000005845.2_ASM584v2_genomic.fna.gz, 1, writeinthread=false, genscaffoldinfo=true, retain, waitforwriting=false, gz=true, maxlen=536670912, writechroms=true, minscaf=1, midpad=300, startpad=8000, stoppad=8000, nodisk=false]\n",
      "\n",
      "Set genScaffoldInfo=true\n",
      "Writing chunk 1\n",
      "Set genome to 1\n",
      "\n",
      "Loaded Reference:\t0.015 seconds.\n",
      "Loading index for chunk 1-1, build 1\n",
      "No index available; generating from reference genome: /Volumes/Ashley's External Drive/metagenome-demos/all_data/../indices/ref/index/1/chr1_index_k13_c8_b1.block\n",
      "Indexing threads started for block 0-1\n",
      "Indexing threads finished for block 0-1\n",
      "Generated Index:\t2.423 seconds.\n",
      "Analyzed Index:   \t2.869 seconds.\n",
      "Could not find samtools.\n",
      "Started output stream:\t0.168 seconds.\n",
      "Cleared Memory:    \t0.116 seconds.\n",
      "Processing reads in paired-ended mode.\n",
      "Started read stream.\n",
      "Started 4 mapping threads.\n",
      "Detecting finished threads: 0, 1, 2, 3\n",
      "\n",
      "   ------------------   Results   ------------------   \n",
      "\n",
      "Genome:                \t1\n",
      "Key Length:            \t13\n",
      "Max Indel:             \t16000\n",
      "Minimum Score Ratio:  \t0.56\n",
      "Mapping Mode:         \tnormal\n",
      "Reads Used:           \t5416140\t(937014505 bases)\n",
      "\n",
      "Mapping:          \t108.996 seconds.\n",
      "Reads/sec:       \t49691.02\n",
      "kBases/sec:      \t8596.75\n",
      "\n",
      "\n",
      "Pairing data:   \tpct pairs\tnum pairs \tpct bases\t   num bases\n",
      "\n",
      "mated pairs:     \t  0.0804% \t     2176 \t  0.0746% \t      699438\n",
      "bad pairs:       \t  0.0004% \t       10 \t  0.0002% \t        2118\n",
      "insert size avg: \t  203.04\n",
      "\n",
      "\n",
      "Read 1 data:      \tpct reads\tnum reads \tpct bases\t   num bases\n",
      "\n",
      "mapped:          \t  0.0811% \t     2196 \t  0.0750% \t      353076\n",
      "unambiguous:     \t  0.0204% \t      553 \t  0.0176% \t       83083\n",
      "ambiguous:       \t  0.0607% \t     1643 \t  0.0573% \t      269993\n",
      "low-Q discards:  \t  0.0000% \t        0 \t  0.0000% \t           0\n",
      "\n",
      "perfect best site:\t  0.0005% \t       13 \t  0.0002% \t         895\n",
      "semiperfect site:\t  0.0005% \t       13 \t  0.0002% \t         895\n",
      "rescued:         \t  0.0051% \t      139\n",
      "\n",
      "Match Rate:      \t      NA \t       NA \t 82.6105% \t      302989\n",
      "Error Rate:      \t 85.3735% \t     2183 \t 17.3895% \t       63779\n",
      "Sub Rate:        \t 85.3735% \t     2183 \t 13.4567% \t       49355\n",
      "Del Rate:        \t 13.7661% \t      352 \t  3.7332% \t       13692\n",
      "Ins Rate:        \t 11.0285% \t      282 \t  0.1996% \t         732\n",
      "N Rate:          \t  0.0000% \t        0 \t  0.0000% \t           0\n",
      "\n",
      "\n",
      "Read 2 data:      \tpct reads\tnum reads \tpct bases\t   num bases\n",
      "\n",
      "mapped:          \t  0.0810% \t     2193 \t  0.0754% \t      351324\n",
      "unambiguous:     \t  0.0205% \t      555 \t  0.0179% \t       83543\n",
      "ambiguous:       \t  0.0605% \t     1638 \t  0.0575% \t      267781\n",
      "low-Q discards:  \t  0.0000% \t        0 \t  0.0000% \t           0\n",
      "\n",
      "perfect best site:\t  0.0004% \t       11 \t  0.0002% \t         745\n",
      "semiperfect site:\t  0.0004% \t       11 \t  0.0002% \t         745\n",
      "rescued:         \t  0.0102% \t      277\n",
      "\n",
      "Match Rate:      \t      NA \t       NA \t 79.4178% \t      300786\n",
      "Error Rate:      \t 83.5055% \t     2182 \t 20.5822% \t       77953\n",
      "Sub Rate:        \t 83.5055% \t     2182 \t 13.1426% \t       49776\n",
      "Del Rate:        \t 13.7007% \t      358 \t  7.2385% \t       27415\n",
      "Ins Rate:        \t 11.0601% \t      289 \t  0.2012% \t         762\n",
      "N Rate:          \t  0.0000% \t        0 \t  0.0000% \t           0\n",
      "\n",
      "Reads:                               \t5416140\n",
      "Mapped reads:                        \t4389\n",
      "Mapped bases:                        \t708789\n",
      "Ref scaffolds:                       \t1\n",
      "Ref bases:                           \t4641652\n",
      "\n",
      "Percent mapped:                      \t0.081\n",
      "Percent proper pairs:                \t0.080\n",
      "Average coverage:                    \t0.153\n",
      "Average coverage with deletions:     \t0.160\n",
      "Standard deviation:                    \t3.653\n",
      "Percent scaffolds with any coverage: \t100.00\n",
      "Percent of reference bases covered:  \t1.89\n",
      "\n",
      "Total time:     \t122.861 seconds.\n"
     ]
    }
   ],
   "source": [
    "bbmap.sh ref=../${ref_path} in1=ERR1424899_1.fastq.gz in2=ERR1424899_2.fastq.gz outm=../bams/ecoli_ERR1424899.bam minid=0.9 path=../indices covstats=../reports/ecoli_ERR1424899_stats.txt covhist=../reports/ecoli_ERR1424899_covhist.txt  basecov=../reports/ecoli_ERR1424899_basecov.txt -Xmx3200m"
   ]
  },
  {
   "cell_type": "code",
   "execution_count": 23,
   "id": "04b1d654-563a-49e5-8577-06808b83ac2e",
   "metadata": {},
   "outputs": [
    {
     "name": "stdout",
     "output_type": "stream",
     "text": [
      "\n",
      "BBMap\n",
      "Written by Brian Bushnell, from Dec. 2010 - present\n",
      "Last modified February 13, 2020\n",
      "\n",
      "Description:  Fast and accurate splice-aware read aligner.\n",
      "Please read bbmap/docs/guides/BBMapGuide.txt for more information.\n",
      "\n",
      "To index:     bbmap.sh ref=<reference fasta>\n",
      "To map:       bbmap.sh in=<reads> out=<output sam>\n",
      "To map without writing an index:\n",
      "    bbmap.sh ref=<reference fasta> in=<reads> out=<output sam> nodisk\n",
      "\n",
      "in=stdin will accept reads from standard in, and out=stdout will write to \n",
      "standard out, but file extensions are still needed to specify the format of the \n",
      "input and output files e.g. in=stdin.fa.gz will read gzipped fasta from \n",
      "standard in; out=stdout.sam.gz will write gzipped sam.\n",
      "\n",
      "Indexing Parameters (required when building the index):\n",
      "nodisk=f                Set to true to build index in memory and write nothing \n",
      "                        to disk except output.\n",
      "ref=<file>              Specify the reference sequence.  Only do this ONCE, \n",
      "                        when building the index (unless using 'nodisk').\n",
      "build=1                 If multiple references are indexed in the same directory,\n",
      "                        each needs a unique numeric ID (unless using 'nodisk').\n",
      "k=13                    Kmer length, range 8-15.  Longer is faster but uses \n",
      "                        more memory.  Shorter is more sensitive.\n",
      "                        If indexing and mapping are done in two steps, K should\n",
      "                        be specified each time.\n",
      "path=<.>                Specify the location to write the index, if you don't \n",
      "                        want it in the current working directory.\n",
      "usemodulo=f             Throw away ~80% of kmers based on remainder modulo a \n",
      "                        number (reduces RAM by 50% and sensitivity slightly).\n",
      "                        Should be enabled both when building the index AND \n",
      "                        when mapping.\n",
      "rebuild=f               Force a rebuild of the index (ref= should be set).\n",
      "\n",
      "Input Parameters:\n",
      "build=1                 Designate index to use.  Corresponds to the number \n",
      "                        specified when building the index.\n",
      "in=<file>               Primary reads input; required parameter.\n",
      "in2=<file>              For paired reads in two files.\n",
      "interleaved=auto        True forces paired/interleaved input; false forces \n",
      "                        single-ended mapping. If not specified, interleaved \n",
      "                        status will be autodetected from read names.\n",
      "fastareadlen=500        Break up FASTA reads longer than this.  Max is 500 for\n",
      "                        BBMap and 6000 for BBMapPacBio.  Only works for FASTA\n",
      "                        input (use 'maxlen' for FASTQ input).  The default for\n",
      "                        bbmap.sh is 500, and for mapPacBio.sh is 6000.\n",
      "unpigz=f                Spawn a pigz (parallel gzip) process for faster \n",
      "                        decompression than using Java.  \n",
      "                        Requires pigz to be installed.\n",
      "touppercase=t           (tuc) Convert lowercase letters in reads to upper case \n",
      "                        (otherwise they will not match the reference).\n",
      "\n",
      "Sampling Parameters:\n",
      "\n",
      "reads=-1                Set to a positive number N to only process the first N\n",
      "                        reads (or pairs), then quit.  -1 means use all reads.\n",
      "samplerate=1            Set to a number from 0 to 1 to randomly select that\n",
      "                        fraction of reads for mapping. 1 uses all reads.\n",
      "skipreads=0             Set to a number N to skip the first N reads (or pairs), \n",
      "                        then map the rest.\n",
      "\n",
      "Mapping Parameters:\n",
      "fast=f                  This flag is a macro which sets other paramters to run \n",
      "                        faster, at reduced sensitivity.  Bad for RNA-seq.\n",
      "slow=f                  This flag is a macro which sets other paramters to run \n",
      "                        slower, at greater sensitivity.  'vslow' is even slower.\n",
      "maxindel=16000          Don't look for indels longer than this. Lower is faster.\n",
      "                        Set to >=100k for RNAseq with long introns like mammals.\n",
      "strictmaxindel=f        When enabled, do not allow indels longer than 'maxindel'.\n",
      "                        By default these are not sought, but may be found anyway.\n",
      "tipsearch=100           Look this far for read-end deletions with anchors\n",
      "                        shorter than K, using brute force.\n",
      "minid=0.76              Approximate minimum alignment identity to look for. \n",
      "                        Higher is faster and less sensitive.\n",
      "minhits=1               Minimum number of seed hits required for candidate sites.\n",
      "                        Higher is faster.\n",
      "local=f                 Set to true to use local, rather than global, alignments.\n",
      "                        This will soft-clip ugly ends of poor alignments.\n",
      "perfectmode=f           Allow only perfect mappings when set to true (very fast).\n",
      "semiperfectmode=f       Allow only perfect and semiperfect (perfect except for \n",
      "                        N's in the reference) mappings.\n",
      "threads=auto            (t) Set to number of threads desired.  By default, uses \n",
      "                        all cores available.\n",
      "ambiguous=best          (ambig) Set behavior on ambiguously-mapped reads (with \n",
      "                        multiple top-scoring mapping locations).\n",
      "                            best    (use the first best site)\n",
      "                            toss    (consider unmapped)\n",
      "                            random  (select one top-scoring site randomly)\n",
      "                            all     (retain all top-scoring sites)\n",
      "samestrandpairs=f       (ssp) Specify whether paired reads should map to the\n",
      "                        same strand or opposite strands.\n",
      "requirecorrectstrand=t  (rcs) Forbid pairing of reads without correct strand \n",
      "                        orientation.  Set to false for long-mate-pair libraries.\n",
      "killbadpairs=f          (kbp) If a read pair is mapped with an inappropriate\n",
      "                        insert size or orientation, the read with the lower  \n",
      "                        mapping quality is marked unmapped.\n",
      "pairedonly=f            (po) Treat unpaired reads as unmapped.  Thus they will \n",
      "                        be sent to 'outu' but not 'outm'.\n",
      "rcomp=f                 Reverse complement both reads prior to mapping (for LMP\n",
      "                        outward-facing libraries).\n",
      "rcompmate=f             Reverse complement read2 prior to mapping.\n",
      "pairlen=32000           Set max allowed distance between paired reads.  \n",
      "                        (insert size)=(pairlen)+(read1 length)+(read2 length)\n",
      "rescuedist=1200         Don't try to rescue paired reads if avg. insert size\n",
      "                        greater than this.  Lower is faster.\n",
      "rescuemismatches=32     Maximum mismatches allowed in a rescued read.  Lower\n",
      "                        is faster.\n",
      "averagepairdist=100     (apd) Initial average distance between paired reads.\n",
      "                        Varies dynamically; does not need to be specified.\n",
      "deterministic=f         Run in deterministic mode.  In this case it is good\n",
      "                        to set averagepairdist.  BBMap is deterministic\n",
      "                        without this flag if using single-ended reads,\n",
      "                        or run singlethreaded.\n",
      "bandwidthratio=0        (bwr) If above zero, restrict alignment band to this \n",
      "                        fraction of read length.  Faster but less accurate.\n",
      "bandwidth=0             (bw) Set the bandwidth directly.\n",
      "                        fraction of read length.  Faster but less accurate.\n",
      "usejni=f                (jni) Do alignments faster, in C code.  Requires \n",
      "                        compiling the C code; details are in /jni/README.txt.\n",
      "maxsites2=800           Don't analyze (or print) more than this many alignments \n",
      "                        per read.\n",
      "ignorefrequentkmers=t   (ifk) Discard low-information kmers that occur often.\n",
      "excludefraction=0.03    (ef) Fraction of kmers to ignore.  For example, 0.03\n",
      "                        will ignore the most common 3% of kmers.\n",
      "greedy=t                Use a greedy algorithm to discard the least-useful\n",
      "                        kmers on a per-read basis.\n",
      "kfilter=0               If positive, potential mapping sites must have at\n",
      "                        least this many consecutive exact matches.\n",
      "\n",
      "\n",
      "Quality and Trimming Parameters:\n",
      "qin=auto                Set to 33 or 64 to specify input quality value ASCII\n",
      "                        offset. 33 is Sanger, 64 is old Solexa.\n",
      "qout=auto               Set to 33 or 64 to specify output quality value ASCII \n",
      "                        offset (only if output format is fastq).\n",
      "qtrim=f                 Quality-trim ends before mapping.  Options are: \n",
      "                        'f' (false), 'l' (left), 'r' (right), and 'lr' (both).\n",
      "untrim=f                Undo trimming after mapping.  Untrimmed bases will be \n",
      "                        soft-clipped in cigar strings.\n",
      "trimq=6                 Trim regions with average quality below this \n",
      "                        (phred algorithm).\n",
      "mintrimlength=60        (mintl) Don't trim reads to be shorter than this.\n",
      "fakefastaquality=-1     (ffq) Set to a positive number 1-50 to generate fake\n",
      "                        quality strings for fasta input reads.\n",
      "ignorebadquality=f      (ibq) Keep going, rather than crashing, if a read has \n",
      "                        out-of-range quality values.\n",
      "usequality=t            Use quality scores when determining which read kmers\n",
      "                        to use as seeds.\n",
      "minaveragequality=0     (maq) Do not map reads with average quality below this.\n",
      "maqb=0                  If positive, calculate maq from this many initial bases.\n",
      "\n",
      "Output Parameters:\n",
      "out=<file>              Write all reads to this file.\n",
      "outu=<file>             Write only unmapped reads to this file.  Does not \n",
      "                        include unmapped paired reads with a mapped mate.\n",
      "outm=<file>             Write only mapped reads to this file.  Includes \n",
      "                        unmapped paired reads with a mapped mate.\n",
      "mappedonly=f            If true, treats 'out' like 'outm'.\n",
      "bamscript=<file>        (bs) Write a shell script to <file> that will turn \n",
      "                        the sam output into a sorted, indexed bam file.\n",
      "ordered=f               Set to true to output reads in same order as input.  \n",
      "                        Slower and uses more memory.\n",
      "overwrite=f             (ow) Allow process to overwrite existing files.\n",
      "secondary=f             Print secondary alignments.\n",
      "sssr=0.95               (secondarysitescoreratio) Print only secondary alignments\n",
      "                        with score of at least this fraction of primary.\n",
      "ssao=f                  (secondarysiteasambiguousonly) Only print secondary \n",
      "                        alignments for ambiguously-mapped reads.\n",
      "maxsites=5              Maximum number of total alignments to print per read.\n",
      "                        Only relevant when secondary=t.\n",
      "quickmatch=f            Generate cigar strings more quickly.\n",
      "trimreaddescriptions=f  (trd) Truncate read and ref names at the first whitespace,\n",
      "                        assuming that the remainder is a comment or description.\n",
      "ziplevel=2              (zl) Compression level for zip or gzip output.\n",
      "pigz=f                  Spawn a pigz (parallel gzip) process for faster \n",
      "                        compression than Java.  Requires pigz to be installed.\n",
      "machineout=f            Set to true to output statistics in machine-friendly \n",
      "                        'key=value' format.\n",
      "printunmappedcount=f    Print the total number of unmapped reads and bases.\n",
      "                        If input is paired, the number will be of pairs\n",
      "                        for which both reads are unmapped.\n",
      "showprogress=0          If positive, print a '.' every X reads.\n",
      "showprogress2=0         If positive, print the number of seconds since the\n",
      "                        last progress update (instead of a '.').\n",
      "renamebyinsert=f        Renames reads based on their mapped insert size.\n",
      "\n",
      "Bloom-Filtering Parameters (bloomfilter.sh is the standalone version).\n",
      "bloom=f                 Use a Bloom filter to ignore reads not sharing kmers\n",
      "                        with the reference.  This uses more memory, but speeds\n",
      "                        mapping when most reads don't match the reference.\n",
      "bloomhashes=2           Number of hash functions.\n",
      "bloomminhits=3          Number of consecutive hits to be considered matched.\n",
      "bloomk=31               Bloom filter kmer length.\n",
      "bloomserial=t           Use the serialized Bloom filter for greater loading\n",
      "                        speed, if available.  If not, generate and write one.\n",
      "\n",
      "Post-Filtering Parameters:\n",
      "idfilter=0              Independant of minid; sets exact minimum identity \n",
      "                        allowed for alignments to be printed.  Range 0 to 1.\n",
      "subfilter=-1            Ban alignments with more than this many substitutions.\n",
      "insfilter=-1            Ban alignments with more than this many insertions.\n",
      "delfilter=-1            Ban alignments with more than this many deletions.\n",
      "indelfilter=-1          Ban alignments with more than this many indels.\n",
      "editfilter=-1           Ban alignments with more than this many edits.\n",
      "inslenfilter=-1         Ban alignments with an insertion longer than this.\n",
      "dellenfilter=-1         Ban alignments with a deletion longer than this.\n",
      "nfilter=-1              Ban alignments with more than this many ns.  This \n",
      "                        includes nocall, noref, and off scaffold ends.\n",
      "\n",
      "Sam flags and settings:\n",
      "noheader=f              Disable generation of header lines.\n",
      "sam=1.4                 Set to 1.4 to write Sam version 1.4 cigar strings, \n",
      "                        with = and X, or 1.3 to use M.\n",
      "saa=t                   (secondaryalignmentasterisks) Use asterisks instead of\n",
      "                        bases for sam secondary alignments.\n",
      "cigar=t                 Set to 'f' to skip generation of cigar strings (faster).\n",
      "keepnames=f             Keep original names of paired reads, rather than \n",
      "                        ensuring both reads have the same name.\n",
      "intronlen=999999999     Set to a lower number like 10 to change 'D' to 'N' in \n",
      "                        cigar strings for deletions of at least that length.\n",
      "rgid=                   Set readgroup ID.  All other readgroup fields \n",
      "                        can be set similarly, with the flag rgXX=\n",
      "                        If you set a readgroup flag to the word 'filename',\n",
      "                        e.g. rgid=filename, the input file name will be used.\n",
      "mdtag=f                 Write MD tags.\n",
      "nhtag=f                 Write NH tags.\n",
      "xmtag=f                 Write XM tags (may only work correctly with ambig=all).\n",
      "amtag=f                 Write AM tags.\n",
      "nmtag=f                 Write NM tags.\n",
      "xstag=f                 Set to 'xs=fs', 'xs=ss', or 'xs=us' to write XS tags \n",
      "                        for RNAseq using firststrand, secondstrand, or \n",
      "                        unstranded libraries.  Needed by Cufflinks.  \n",
      "                        JGI mainly uses 'firststrand'.\n",
      "stoptag=f               Write a tag indicating read stop location, prefixed by YS:i:\n",
      "lengthtag=f             Write a tag indicating (query,ref) alignment lengths, \n",
      "                        prefixed by YL:Z:\n",
      "idtag=f                 Write a tag indicating percent identity, prefixed by YI:f:\n",
      "inserttag=f             Write a tag indicating insert size, prefixed by X8:Z:\n",
      "scoretag=f              Write a tag indicating BBMap's raw score, prefixed by YR:i:\n",
      "timetag=f               Write a tag indicating this read's mapping time, prefixed by X0:i:\n",
      "boundstag=f             Write a tag indicating whether either read in the pair\n",
      "                        goes off the end of the reference, prefixed by XB:Z:\n",
      "notags=f                Turn off all optional tags.\n",
      "\n",
      "Histogram and statistics output parameters:\n",
      "scafstats=<file>        Statistics on how many reads mapped to which scaffold.\n",
      "refstats=<file>         Statistics on how many reads mapped to which reference\n",
      "                        file; only for BBSplit.\n",
      "sortscafs=t             Sort scaffolds or references by read count.\n",
      "bhist=<file>            Base composition histogram by position.\n",
      "qhist=<file>            Quality histogram by position.\n",
      "aqhist=<file>           Histogram of average read quality.\n",
      "bqhist=<file>           Quality histogram designed for box plots.\n",
      "lhist=<file>            Read length histogram.\n",
      "ihist=<file>            Write histogram of insert sizes (for paired reads).\n",
      "ehist=<file>            Errors-per-read histogram.\n",
      "qahist=<file>           Quality accuracy histogram of error rates versus \n",
      "                        quality score.\n",
      "indelhist=<file>        Indel length histogram.\n",
      "mhist=<file>            Histogram of match, sub, del, and ins rates by \n",
      "                        read location.\n",
      "gchist=<file>           Read GC content histogram.\n",
      "gcbins=100              Number gchist bins.  Set to 'auto' to use read length.\n",
      "gcpairs=t               Use average GC of paired reads.\n",
      "idhist=<file>           Histogram of read count versus percent identity.\n",
      "idbins=100              Number idhist bins.  Set to 'auto' to use read length.\n",
      "statsfile=stderr        Mapping statistics are printed here.\n",
      "\n",
      "Coverage output parameters (these may reduce speed and use more RAM):\n",
      "covstats=<file>         Per-scaffold coverage info.\n",
      "rpkm=<file>             Per-scaffold RPKM/FPKM counts.\n",
      "covhist=<file>          Histogram of # occurrences of each depth level.\n",
      "basecov=<file>          Coverage per base location.\n",
      "bincov=<file>           Print binned coverage per location (one line per X bases).\n",
      "covbinsize=1000         Set the binsize for binned coverage output.\n",
      "nzo=t                   Only print scaffolds with nonzero coverage.\n",
      "twocolumn=f             Change to true to print only ID and Avg_fold instead of \n",
      "                        all 6 columns to the 'out=' file.\n",
      "32bit=f                 Set to true if you need per-base coverage over 64k.\n",
      "strandedcov=f           Track coverage for plus and minus strand independently.\n",
      "startcov=f              Only track start positions of reads.\n",
      "secondarycov=t          Include coverage of secondary alignments.\n",
      "physcov=f               Calculate physical coverage for paired reads.\n",
      "                        This includes the unsequenced bases.\n",
      "delcoverage=t           (delcov) Count bases covered by deletions as covered.\n",
      "                        True is faster than false.\n",
      "covk=0                  If positive, calculate kmer coverage statistics.\n",
      "\n",
      "Java Parameters:\n",
      "-Xmx                    This will set Java's memory usage, \n",
      "                        overriding autodetection.\n",
      "                        -Xmx20g will specify 20 gigs of RAM, and -Xmx800m \n",
      "                        will specify 800 megs.  The max is typically 85% of \n",
      "                        physical memory.  The human genome requires around 24g,\n",
      "                        or 12g with the 'usemodulo' flag.  The index uses \n",
      "                        roughly 6 bytes per reference base.\n",
      "-eoom                   This flag will cause the process to exit if an \n",
      "                        out-of-memory exception occurs.  Requires Java 8u92+.\n",
      "-da                     Disable assertions.\n",
      "\n",
      "Please contact Brian Bushnell at bbushnell@lbl.gov if you encounter \n",
      "any problems, or post at: http://seqanswers.com/forums/showthread.php?t=41057\n",
      "\n"
     ]
    }
   ],
   "source": [
    "bbmap.sh --help"
   ]
  },
  {
   "cell_type": "code",
   "execution_count": null,
   "id": "fbbc06e3-ed3b-4cf0-baf7-bcc479f9d7e7",
   "metadata": {},
   "outputs": [],
   "source": []
  }
 ],
 "metadata": {
  "kernelspec": {
   "display_name": "Bash",
   "language": "bash",
   "name": "bash"
  },
  "language_info": {
   "codemirror_mode": "shell",
   "file_extension": ".sh",
   "mimetype": "text/x-sh",
   "name": "bash"
  }
 },
 "nbformat": 4,
 "nbformat_minor": 5
}
