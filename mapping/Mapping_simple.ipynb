{
 "cells": [
  {
   "cell_type": "markdown",
   "id": "7dc85e06-566f-4453-8c53-1df5e54b2d92",
   "metadata": {},
   "source": [
    "This code will show how to map reads of paired-end metagenomes to a reference genome using `bbmap` in BASH. \n",
    "\n",
    "Sample data from ENA:\n",
    "\n",
    "Arctic Ocean metagenomes sampled aboard CGC Healy during the 2015 GEOTRACES Arctic research cruise Secondary Study Accession:ERP015773 Study Title:Arctic Ocean metagenomes from HLY1502 Center Name:UNIVERSITY OF ALASKA FAIRBANKS Study Name:Arctic Ocean metagenomes ENA-FIRST-PUBLIC:2016-05-27 ENA-LAST-UPDATE:2016-05-25\n",
    "\n",
    "Can be found at: https://www.ebi.ac.uk/ena/browser/view/PRJEB14154?show=reads\n",
    "\n",
    "I have used the first 5 pairs of Generated FASTQ files\n",
    "\n",
    "For the sake of brevity, I will use just one reference genome for mapping in this exercise, [E.coli K-12 substr. MG1655](https://www.ncbi.nlm.nih.gov/assembly/GCF_000005845.2). Other reference genomes can be found at https://www.ncbi.nlm.nih.gov/refseq/about/prokaryotes/\n",
    "\n",
    "move into content folder:"
   ]
  },
  {
   "cell_type": "code",
   "execution_count": 1,
   "id": "65473f9d-5e68-47e3-a387-3f98fbdddc78",
   "metadata": {},
   "outputs": [],
   "source": [
    "cd example_content"
   ]
  },
  {
   "cell_type": "markdown",
   "id": "53271263-d0e2-4c03-9ae9-89775599cee2",
   "metadata": {},
   "source": [
    "examine content...notice all of the .fastq.gz files are in separate subfolders"
   ]
  },
  {
   "cell_type": "code",
   "execution_count": 2,
   "id": "fd256c2b-b101-44c6-995a-48ce4aa965b4",
   "metadata": {},
   "outputs": [
    {
     "name": "stdout",
     "output_type": "stream",
     "text": [
      "ERR1424899\tERR1424900\tERR1424901\tERR1424902\tERR1424903\n"
     ]
    }
   ],
   "source": [
    "ls"
   ]
  },
  {
   "cell_type": "markdown",
   "id": "620dc584-ed6a-49b1-8353-a45a6594e670",
   "metadata": {},
   "source": [
    "move up one directory and create a new subdirectory to move all of the .fastq.gz files into one place. Then check that the directory was made with ls."
   ]
  },
  {
   "cell_type": "code",
   "execution_count": 3,
   "id": "1170022a-d1eb-4c11-8c57-71b427fdcea2",
   "metadata": {},
   "outputs": [],
   "source": [
    "cd .."
   ]
  },
  {
   "cell_type": "markdown",
   "id": "4233d3ba-b870-430d-85e5-3bca07c8099c",
   "metadata": {},
   "source": [
    "First, we need to make a copy of the original data before moving it"
   ]
  },
  {
   "cell_type": "code",
   "execution_count": 4,
   "id": "c5ea7906-e528-439e-a730-2ff22a5f57ac",
   "metadata": {},
   "outputs": [],
   "source": [
    "cp -R example_content example_content_copy"
   ]
  },
  {
   "cell_type": "code",
   "execution_count": 5,
   "id": "5ecd8fbc-eaf0-448a-b9e1-db134ee777cb",
   "metadata": {},
   "outputs": [],
   "source": [
    "mkdir all_data"
   ]
  },
  {
   "cell_type": "code",
   "execution_count": 6,
   "id": "0c97028d-5535-41cf-bfa8-8056d6d1faa2",
   "metadata": {},
   "outputs": [
    {
     "name": "stdout",
     "output_type": "stream",
     "text": [
      "Mapping_simple.ipynb\t\t\texample_content_copy\n",
      "Untitled.ipynb\t\t\t\treferences\n",
      "all_data\t\t\t\ttrimming_classification_basic.ipynb\n",
      "example_content\t\t\t\ttrimming_classification_moreqc.ipynb\n",
      "example_content_2\n"
     ]
    }
   ],
   "source": [
    "ls"
   ]
  },
  {
   "cell_type": "code",
   "execution_count": 7,
   "id": "54d0aba0-7dc2-40cb-895c-439ac630886c",
   "metadata": {},
   "outputs": [],
   "source": [
    "cd example_content"
   ]
  },
  {
   "cell_type": "markdown",
   "id": "d348f499-43d0-40cd-a1ca-c7c5c5afbc40",
   "metadata": {},
   "source": [
    "locate all files ending with .gz in all subfolders within the directory. The `*` character means that any other characters can preceed .gz. The `mindepth` command specifies to perform commands that follow at the subdirectory level (1=root). The empty `{}` allows all files meeting the criteria to be moved.  The `print` command allows user to monitor files"
   ]
  },
  {
   "cell_type": "code",
   "execution_count": 8,
   "id": "7f57eb59-1079-4cd1-9eb7-ce1066cf44cd",
   "metadata": {},
   "outputs": [
    {
     "name": "stdout",
     "output_type": "stream",
     "text": [
      "./ERR1424899/ERR1424899_1.fastq.gz\n",
      "./ERR1424899/ERR1424899_2.fastq.gz\n",
      "./ERR1424900/ERR1424900_1.fastq.gz\n",
      "./ERR1424900/ERR1424900_2.fastq.gz\n",
      "./ERR1424901/ERR1424901_1.fastq.gz\n",
      "./ERR1424901/ERR1424901_2.fastq.gz\n",
      "./ERR1424902/ERR1424902_1.fastq.gz\n",
      "./ERR1424902/ERR1424902_2.fastq.gz\n",
      "./ERR1424903/ERR1424903_1.fastq.gz\n",
      "./ERR1424903/ERR1424903_2.fastq.gz\n"
     ]
    }
   ],
   "source": [
    "find . -mindepth 2 -type f -name '*.gz' -print -exec mv {} ../all_data \\;"
   ]
  },
  {
   "cell_type": "code",
   "execution_count": 9,
   "id": "1613525f-eb1d-435b-a9f9-148a18328161",
   "metadata": {},
   "outputs": [],
   "source": [
    "cd ../all_data"
   ]
  },
  {
   "cell_type": "code",
   "execution_count": 10,
   "id": "632457b0-5e72-475f-a149-7c95d760b184",
   "metadata": {},
   "outputs": [
    {
     "name": "stdout",
     "output_type": "stream",
     "text": [
      "ERR1424899_1.fastq.gz\tERR1424901_1.fastq.gz\tERR1424903_1.fastq.gz\n",
      "ERR1424899_2.fastq.gz\tERR1424901_2.fastq.gz\tERR1424903_2.fastq.gz\n",
      "ERR1424900_1.fastq.gz\tERR1424902_1.fastq.gz\n",
      "ERR1424900_2.fastq.gz\tERR1424902_2.fastq.gz\n"
     ]
    }
   ],
   "source": [
    "ls"
   ]
  },
  {
   "cell_type": "code",
   "execution_count": 11,
   "id": "faa55d20-34f4-4142-b0f2-465b20f6787c",
   "metadata": {},
   "outputs": [],
   "source": [
    "rm -r ../example_content"
   ]
  },
  {
   "cell_type": "markdown",
   "id": "5653b9a4-a067-4f40-85b1-9b26ae3e6ea5",
   "metadata": {},
   "source": [
    "Define the path to the reference"
   ]
  },
  {
   "cell_type": "code",
   "execution_count": 13,
   "id": "75eb933a-abd5-4b9f-bad5-42e5b7e07691",
   "metadata": {},
   "outputs": [],
   "source": [
    "ref_path=\"references/genome_assemblies_genome_fasta_ecoli_K12_MG1655/GCF_000005845.2_ASM584v2_genomic.fna.gz\""
   ]
  },
  {
   "cell_type": "markdown",
   "id": "1c24aae5-47bd-45d2-bc3d-851bf3b6e861",
   "metadata": {},
   "source": [
    "create output directories"
   ]
  },
  {
   "cell_type": "code",
   "execution_count": 16,
   "id": "552f2ab3-43af-4758-a76b-2a27cfb2891c",
   "metadata": {},
   "outputs": [],
   "source": [
    "mkdir ../reports"
   ]
  },
  {
   "cell_type": "code",
   "execution_count": 17,
   "id": "06cb0b14-fa60-49a2-8ff0-848beb13212e",
   "metadata": {},
   "outputs": [],
   "source": [
    "mkdir ../bams"
   ]
  },
  {
   "cell_type": "code",
   "execution_count": 24,
   "id": "2b94971b-1227-4e9b-a670-7cbeabdff2a3",
   "metadata": {},
   "outputs": [],
   "source": [
    "mkdir ../indices #Specify the location to write the index/genome files, if you don't want it in the current working directory."
   ]
  },
  {
   "cell_type": "markdown",
   "id": "951666d7-1f61-47e8-8358-efafac1e8f4b",
   "metadata": {},
   "source": [
    "Let's run some of the most basic commands using bbtools to map our pairs of reads to the reference genome. Here, I am calling `bbmaps` , defining the reference genome with `ref`, inputting the forward and reverse reads of one sample as `in1` and `in2`, outputting the resulting bam file (`outm`) and several text reports (coverage statistics, coverage histogram, base coverage). the argument `minid` defines what reads are acceptable to retain based on their alignment identity with the reference genome. By using `outm` instead of `out`, we output only mapped reads to bam file. `out` will output mapped and unmapped reads, and `outu` will output only unmapped reads. By default, `bbmaps` sets the argument `ambiguous` to best. Meaning that reads will be mapped to the first best site. By default, the `kmer` length is always 13. \n",
    "\n",
    "There are several on-screen outputs. At the top, there are basic statistics about read pairing. Then, there are indivdual statistics for the forward and reverse reads. "
   ]
  },
  {
   "cell_type": "code",
   "execution_count": 25,
   "id": "2721db27-0c56-48a6-a15f-1690605c5da4",
   "metadata": {},
   "outputs": [
    {
     "name": "stdout",
     "output_type": "stream",
     "text": [
      "/usr/local/Cellar/bbtools/38.95/libexec//calcmem.sh: line 75: [: -v: unary operator expected\n",
      "java -ea -Xmx3200m -Xms3200m -cp /usr/local/Cellar/bbtools/38.95/libexec/current/ align2.BBMap build=1 overwrite=true fastareadlen=500 ref=../references/genome_assemblies_genome_fasta_ecoli_K12_MG1655/GCF_000005845.2_ASM584v2_genomic.fna.gz in1=ERR1424899_1.fastq.gz in2=ERR1424899_2.fastq.gz outm=../bams/ecoli_ERR1424899.bam minid=0.9 path=../indices covstats=../reports/ecoli_ERR1424899_stats.txt covhist=../reports/ecoli_ERR1424899_covhist.txt basecov=../reports/ecoli_ERR1424899_basecov.txt -Xmx3200m\n",
      "Executing align2.BBMap [build=1, overwrite=true, fastareadlen=500, ref=../references/genome_assemblies_genome_fasta_ecoli_K12_MG1655/GCF_000005845.2_ASM584v2_genomic.fna.gz, in1=ERR1424899_1.fastq.gz, in2=ERR1424899_2.fastq.gz, outm=../bams/ecoli_ERR1424899.bam, minid=0.9, path=../indices, covstats=../reports/ecoli_ERR1424899_stats.txt, covhist=../reports/ecoli_ERR1424899_covhist.txt, basecov=../reports/ecoli_ERR1424899_basecov.txt, -Xmx3200m]\n",
      "Version 38.95\n",
      "\n",
      "Retaining first best site only for ambiguous mappings.\n",
      "Writing reference.\n",
      "Executing dna.FastaToChromArrays2 [../references/genome_assemblies_genome_fasta_ecoli_K12_MG1655/GCF_000005845.2_ASM584v2_genomic.fna.gz, 1, writeinthread=false, genscaffoldinfo=true, retain, waitforwriting=false, gz=true, maxlen=536670912, writechroms=true, minscaf=1, midpad=300, startpad=8000, stoppad=8000, nodisk=false]\n",
      "\n",
      "Set genScaffoldInfo=true\n",
      "Writing chunk 1\n",
      "Set genome to 1\n",
      "\n",
      "Loaded Reference:\t0.015 seconds.\n",
      "Loading index for chunk 1-1, build 1\n",
      "No index available; generating from reference genome: /Volumes/Ashley's External Drive/metagenome-demos/all_data/../indices/ref/index/1/chr1_index_k13_c8_b1.block\n",
      "Indexing threads started for block 0-1\n",
      "Indexing threads finished for block 0-1\n",
      "Generated Index:\t2.423 seconds.\n",
      "Analyzed Index:   \t2.869 seconds.\n",
      "Could not find samtools.\n",
      "Started output stream:\t0.168 seconds.\n",
      "Cleared Memory:    \t0.116 seconds.\n",
      "Processing reads in paired-ended mode.\n",
      "Started read stream.\n",
      "Started 4 mapping threads.\n",
      "Detecting finished threads: 0, 1, 2, 3\n",
      "\n",
      "   ------------------   Results   ------------------   \n",
      "\n",
      "Genome:                \t1\n",
      "Key Length:            \t13\n",
      "Max Indel:             \t16000\n",
      "Minimum Score Ratio:  \t0.56\n",
      "Mapping Mode:         \tnormal\n",
      "Reads Used:           \t5416140\t(937014505 bases)\n",
      "\n",
      "Mapping:          \t108.996 seconds.\n",
      "Reads/sec:       \t49691.02\n",
      "kBases/sec:      \t8596.75\n",
      "\n",
      "\n",
      "Pairing data:   \tpct pairs\tnum pairs \tpct bases\t   num bases\n",
      "\n",
      "mated pairs:     \t  0.0804% \t     2176 \t  0.0746% \t      699438\n",
      "bad pairs:       \t  0.0004% \t       10 \t  0.0002% \t        2118\n",
      "insert size avg: \t  203.04\n",
      "\n",
      "\n",
      "Read 1 data:      \tpct reads\tnum reads \tpct bases\t   num bases\n",
      "\n",
      "mapped:          \t  0.0811% \t     2196 \t  0.0750% \t      353076\n",
      "unambiguous:     \t  0.0204% \t      553 \t  0.0176% \t       83083\n",
      "ambiguous:       \t  0.0607% \t     1643 \t  0.0573% \t      269993\n",
      "low-Q discards:  \t  0.0000% \t        0 \t  0.0000% \t           0\n",
      "\n",
      "perfect best site:\t  0.0005% \t       13 \t  0.0002% \t         895\n",
      "semiperfect site:\t  0.0005% \t       13 \t  0.0002% \t         895\n",
      "rescued:         \t  0.0051% \t      139\n",
      "\n",
      "Match Rate:      \t      NA \t       NA \t 82.6105% \t      302989\n",
      "Error Rate:      \t 85.3735% \t     2183 \t 17.3895% \t       63779\n",
      "Sub Rate:        \t 85.3735% \t     2183 \t 13.4567% \t       49355\n",
      "Del Rate:        \t 13.7661% \t      352 \t  3.7332% \t       13692\n",
      "Ins Rate:        \t 11.0285% \t      282 \t  0.1996% \t         732\n",
      "N Rate:          \t  0.0000% \t        0 \t  0.0000% \t           0\n",
      "\n",
      "\n",
      "Read 2 data:      \tpct reads\tnum reads \tpct bases\t   num bases\n",
      "\n",
      "mapped:          \t  0.0810% \t     2193 \t  0.0754% \t      351324\n",
      "unambiguous:     \t  0.0205% \t      555 \t  0.0179% \t       83543\n",
      "ambiguous:       \t  0.0605% \t     1638 \t  0.0575% \t      267781\n",
      "low-Q discards:  \t  0.0000% \t        0 \t  0.0000% \t           0\n",
      "\n",
      "perfect best site:\t  0.0004% \t       11 \t  0.0002% \t         745\n",
      "semiperfect site:\t  0.0004% \t       11 \t  0.0002% \t         745\n",
      "rescued:         \t  0.0102% \t      277\n",
      "\n",
      "Match Rate:      \t      NA \t       NA \t 79.4178% \t      300786\n",
      "Error Rate:      \t 83.5055% \t     2182 \t 20.5822% \t       77953\n",
      "Sub Rate:        \t 83.5055% \t     2182 \t 13.1426% \t       49776\n",
      "Del Rate:        \t 13.7007% \t      358 \t  7.2385% \t       27415\n",
      "Ins Rate:        \t 11.0601% \t      289 \t  0.2012% \t         762\n",
      "N Rate:          \t  0.0000% \t        0 \t  0.0000% \t           0\n",
      "\n",
      "Reads:                               \t5416140\n",
      "Mapped reads:                        \t4389\n",
      "Mapped bases:                        \t708789\n",
      "Ref scaffolds:                       \t1\n",
      "Ref bases:                           \t4641652\n",
      "\n",
      "Percent mapped:                      \t0.081\n",
      "Percent proper pairs:                \t0.080\n",
      "Average coverage:                    \t0.153\n",
      "Average coverage with deletions:     \t0.160\n",
      "Standard deviation:                    \t3.653\n",
      "Percent scaffolds with any coverage: \t100.00\n",
      "Percent of reference bases covered:  \t1.89\n",
      "\n",
      "Total time:     \t122.861 seconds.\n"
     ]
    }
   ],
   "source": [
    "bbmap.sh ref=../${ref_path} in1=ERR1424899_1.fastq.gz in2=ERR1424899_2.fastq.gz outm=../bams/ecoli_ERR1424899.bam minid=0.9 path=../indices covstats=../reports/ecoli_ERR1424899_stats.txt covhist=../reports/ecoli_ERR1424899_covhist.txt  basecov=../reports/ecoli_ERR1424899_basecov.txt -Xmx3200m"
   ]
  },
  {
   "cell_type": "markdown",
   "id": "1e537b3a-5b33-40bd-bb19-ea2fd7ddaca4",
   "metadata": {},
   "source": [
    "Let's take a look at some of the reports, starting with the basic statistics"
   ]
  },
  {
   "cell_type": "code",
   "execution_count": 27,
   "id": "3d9acb7c-c0e1-41a5-98c9-ccf30e872c5e",
   "metadata": {},
   "outputs": [
    {
     "name": "stdout",
     "output_type": "stream",
     "text": [
      "#ID\tAvg_fold\tLength\tRef_GC\tCovered_percent\tCovered_bases\tPlus_reads\tMinus_reads\tRead_GC\tMedian_fold\tStd_Dev\n",
      "NC_000913.3 Escherichia coli str. K-12 substr. MG1655, complete genome\t0.1603\t4641652\t0.5079\t1.8876\t87617\t2195\t2194\t0.5130\t0\t3.65\n"
     ]
    }
   ],
   "source": [
    "cat ../reports/ecoli_ERR1424899_stats.txt"
   ]
  },
  {
   "cell_type": "markdown",
   "id": "29aebd3a-2a02-4e78-8600-940091dd66fd",
   "metadata": {},
   "source": [
    "Above is the basic statistics report. This includes the read ID (`ID`), the average coverage depth (`Avg_fold`), `Length` is the length of the reference genome, `Ref_GC` is the GC content of the reference genome, `Covered percent` is the percent of reference bases covered, `Plus_reads` and `Minus_reads` refer to the read-scoring algorithm. In a read, each base matching the reference genome is scored +100 points, the first mismatch is scored -127 points, and consecutive mismatching bases are scored negative points but less and less and the length of mismatching bases increases. \n",
    "\n",
    "As a reminder, the coverage of a genome is calculated as `N x L/G` Where `G` is the length of the original genome, `N` is the number of reads, and `L` is the average read length."
   ]
  },
  {
   "cell_type": "markdown",
   "id": "c3b8152d-5895-45bb-8e4c-028163292f79",
   "metadata": {},
   "source": [
    "Now, the first bit of the coverage histogram report:"
   ]
  },
  {
   "cell_type": "code",
   "execution_count": 3,
   "id": "6618531e-9f12-44ee-b1a5-145824175488",
   "metadata": {},
   "outputs": [
    {
     "name": "stdout",
     "output_type": "stream",
     "text": [
      "#Coverage\tnumBases\n",
      "0\t4554035\n",
      "1\t35865\n",
      "2\t25433\n",
      "3\t3434\n",
      "4\t5019\n",
      "5\t1948\n",
      "6\t2427\n",
      "7\t989\n",
      "8\t840\n"
     ]
    }
   ],
   "source": [
    "head ../reports/ecoli_ERR1424899_covhist.txt"
   ]
  },
  {
   "cell_type": "markdown",
   "id": "5b96a610-f85c-456c-ab54-e42822a196ad",
   "metadata": {},
   "source": [
    "This report is convenient for plotting. "
   ]
  },
  {
   "cell_type": "markdown",
   "id": "19bbc807-1660-46af-8873-dc9adf2dfd25",
   "metadata": {},
   "source": [
    "Finally, let's look at a bit of the base coverage report. Warning, this report type is VERY large."
   ]
  },
  {
   "cell_type": "code",
   "execution_count": 4,
   "id": "ef99e83c-8b23-4f0e-9361-c684d03fc2df",
   "metadata": {},
   "outputs": [
    {
     "name": "stdout",
     "output_type": "stream",
     "text": [
      "#RefName\tPos\tCoverage\n",
      "NC_000913.3 Escherichia coli str. K-12 substr. MG1655, complete genome\t0\t0\n",
      "NC_000913.3 Escherichia coli str. K-12 substr. MG1655, complete genome\t1\t0\n",
      "NC_000913.3 Escherichia coli str. K-12 substr. MG1655, complete genome\t2\t0\n",
      "NC_000913.3 Escherichia coli str. K-12 substr. MG1655, complete genome\t3\t0\n",
      "NC_000913.3 Escherichia coli str. K-12 substr. MG1655, complete genome\t4\t0\n",
      "NC_000913.3 Escherichia coli str. K-12 substr. MG1655, complete genome\t5\t0\n",
      "NC_000913.3 Escherichia coli str. K-12 substr. MG1655, complete genome\t6\t0\n",
      "NC_000913.3 Escherichia coli str. K-12 substr. MG1655, complete genome\t7\t0\n",
      "NC_000913.3 Escherichia coli str. K-12 substr. MG1655, complete genome\t8\t0\n"
     ]
    }
   ],
   "source": [
    "head ../reports/ecoli_ERR1424899_basecov.txt"
   ]
  },
  {
   "cell_type": "code",
   "execution_count": null,
   "id": "d9c05dc7-ea16-44b0-a48f-8e07a812844e",
   "metadata": {},
   "outputs": [],
   "source": []
  }
 ],
 "metadata": {
  "kernelspec": {
   "display_name": "Bash",
   "language": "bash",
   "name": "bash"
  },
  "language_info": {
   "codemirror_mode": "shell",
   "file_extension": ".sh",
   "mimetype": "text/x-sh",
   "name": "bash"
  }
 },
 "nbformat": 4,
 "nbformat_minor": 5
}
